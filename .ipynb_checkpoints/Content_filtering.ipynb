{
  "nbformat": 4,
  "nbformat_minor": 2,
  "metadata": {
    "colab": {
      "name": "User_to_User_CollabFiltering.ipynb",
      "provenance": []
    },
    "kernelspec": {
      "name": "python3",
      "display_name": "Python 3.9.6 64-bit ('.venv': conda)"
    },
    "language_info": {
      "name": "python",
      "version": "3.9.6",
      "mimetype": "text/x-python",
      "codemirror_mode": {
        "name": "ipython",
        "version": 3
      },
      "pygments_lexer": "ipython3",
      "nbconvert_exporter": "python",
      "file_extension": ".py"
    },
    "interpreter": {
      "hash": "bb61532732947b5317c978200b2eb2b5f190e2e064774ea5da188a980fb8fccc"
    }
  },
  "cells": [
    {
      "cell_type": "code",
      "execution_count": 13,
      "source": [
        "import pandas as pd\n",
        "import numpy as np\n",
        "import matplotlib.pyplot as plt\n",
        "\n",
        "\n",
        "url_student = 'https://raw.githubusercontent.com/Instantutor/Instantutor-Research/main/Datasets/Data.csv'\n",
        "student = pd.read_csv(url_student)\n",
        "student.rename({'Category(Mentor/Mentee/Both)':\"Category\"},axis='columns',inplace=True)\n",
        "url_rating = 'https://raw.githubusercontent.com/Instantutor/Instantutor-Research/main/Datasets/Rating.csv'\n",
        "rating = pd.read_csv(url_rating)\n",
        "student.head(3)"
      ],
      "outputs": [
        {
          "output_type": "execute_result",
          "data": {
            "text/plain": [
              "   id_student gender  Category Area         Degree  Course Time zone  \\\n",
              "0       11391      M         1   IT  Undergraduate     NaN      Asia   \n",
              "1       28400      F         3   IT       Graduate     NaN   Pacific   \n",
              "2       30268      F         2   IT            PhD     NaN    Europe   \n",
              "\n",
              "  Availability time start Availability time end  \n",
              "0                    9:00                 14:00  \n",
              "1                   16:00                 18:00  \n",
              "2                   12:00                 15:00  "
            ],
            "text/html": [
              "<div>\n",
              "<style scoped>\n",
              "    .dataframe tbody tr th:only-of-type {\n",
              "        vertical-align: middle;\n",
              "    }\n",
              "\n",
              "    .dataframe tbody tr th {\n",
              "        vertical-align: top;\n",
              "    }\n",
              "\n",
              "    .dataframe thead th {\n",
              "        text-align: right;\n",
              "    }\n",
              "</style>\n",
              "<table border=\"1\" class=\"dataframe\">\n",
              "  <thead>\n",
              "    <tr style=\"text-align: right;\">\n",
              "      <th></th>\n",
              "      <th>id_student</th>\n",
              "      <th>gender</th>\n",
              "      <th>Category</th>\n",
              "      <th>Area</th>\n",
              "      <th>Degree</th>\n",
              "      <th>Course</th>\n",
              "      <th>Time zone</th>\n",
              "      <th>Availability time start</th>\n",
              "      <th>Availability time end</th>\n",
              "    </tr>\n",
              "  </thead>\n",
              "  <tbody>\n",
              "    <tr>\n",
              "      <th>0</th>\n",
              "      <td>11391</td>\n",
              "      <td>M</td>\n",
              "      <td>1</td>\n",
              "      <td>IT</td>\n",
              "      <td>Undergraduate</td>\n",
              "      <td>NaN</td>\n",
              "      <td>Asia</td>\n",
              "      <td>9:00</td>\n",
              "      <td>14:00</td>\n",
              "    </tr>\n",
              "    <tr>\n",
              "      <th>1</th>\n",
              "      <td>28400</td>\n",
              "      <td>F</td>\n",
              "      <td>3</td>\n",
              "      <td>IT</td>\n",
              "      <td>Graduate</td>\n",
              "      <td>NaN</td>\n",
              "      <td>Pacific</td>\n",
              "      <td>16:00</td>\n",
              "      <td>18:00</td>\n",
              "    </tr>\n",
              "    <tr>\n",
              "      <th>2</th>\n",
              "      <td>30268</td>\n",
              "      <td>F</td>\n",
              "      <td>2</td>\n",
              "      <td>IT</td>\n",
              "      <td>PhD</td>\n",
              "      <td>NaN</td>\n",
              "      <td>Europe</td>\n",
              "      <td>12:00</td>\n",
              "      <td>15:00</td>\n",
              "    </tr>\n",
              "  </tbody>\n",
              "</table>\n",
              "</div>"
            ]
          },
          "metadata": {},
          "execution_count": 13
        }
      ],
      "metadata": {
        "colab": {
          "base_uri": "https://localhost:8080/",
          "height": 140
        },
        "id": "uVCYTdZBf-2f",
        "outputId": "50a7e78b-e5f1-4873-eef7-6fdd1fb13a21"
      }
    },
    {
      "cell_type": "code",
      "execution_count": 14,
      "source": [
        "rating.describe()"
      ],
      "outputs": [
        {
          "output_type": "execute_result",
          "data": {
            "text/plain": [
              "             Mentor  Mentee       Rating  Comments    Time stamp\n",
              "count  3.999000e+03     0.0  3999.000000       0.0  3.999000e+03\n",
              "mean   7.201465e+05     NaN     3.644286       NaN  1.188795e+09\n",
              "std    5.623939e+05     NaN     0.999781       NaN  2.106722e+08\n",
              "min    2.562900e+04     NaN     0.500000       NaN  8.347537e+08\n",
              "25%    5.088070e+05     NaN     3.000000       NaN  9.799716e+08\n",
              "50%    5.921580e+05     NaN     4.000000       NaN  1.179200e+09\n",
              "75%    6.470485e+05     NaN     4.500000       NaN  1.392410e+09\n",
              "max    2.710343e+06     NaN     5.000000       NaN  1.498765e+09"
            ],
            "text/html": [
              "<div>\n",
              "<style scoped>\n",
              "    .dataframe tbody tr th:only-of-type {\n",
              "        vertical-align: middle;\n",
              "    }\n",
              "\n",
              "    .dataframe tbody tr th {\n",
              "        vertical-align: top;\n",
              "    }\n",
              "\n",
              "    .dataframe thead th {\n",
              "        text-align: right;\n",
              "    }\n",
              "</style>\n",
              "<table border=\"1\" class=\"dataframe\">\n",
              "  <thead>\n",
              "    <tr style=\"text-align: right;\">\n",
              "      <th></th>\n",
              "      <th>Mentor</th>\n",
              "      <th>Mentee</th>\n",
              "      <th>Rating</th>\n",
              "      <th>Comments</th>\n",
              "      <th>Time stamp</th>\n",
              "    </tr>\n",
              "  </thead>\n",
              "  <tbody>\n",
              "    <tr>\n",
              "      <th>count</th>\n",
              "      <td>3.999000e+03</td>\n",
              "      <td>0.0</td>\n",
              "      <td>3999.000000</td>\n",
              "      <td>0.0</td>\n",
              "      <td>3.999000e+03</td>\n",
              "    </tr>\n",
              "    <tr>\n",
              "      <th>mean</th>\n",
              "      <td>7.201465e+05</td>\n",
              "      <td>NaN</td>\n",
              "      <td>3.644286</td>\n",
              "      <td>NaN</td>\n",
              "      <td>1.188795e+09</td>\n",
              "    </tr>\n",
              "    <tr>\n",
              "      <th>std</th>\n",
              "      <td>5.623939e+05</td>\n",
              "      <td>NaN</td>\n",
              "      <td>0.999781</td>\n",
              "      <td>NaN</td>\n",
              "      <td>2.106722e+08</td>\n",
              "    </tr>\n",
              "    <tr>\n",
              "      <th>min</th>\n",
              "      <td>2.562900e+04</td>\n",
              "      <td>NaN</td>\n",
              "      <td>0.500000</td>\n",
              "      <td>NaN</td>\n",
              "      <td>8.347537e+08</td>\n",
              "    </tr>\n",
              "    <tr>\n",
              "      <th>25%</th>\n",
              "      <td>5.088070e+05</td>\n",
              "      <td>NaN</td>\n",
              "      <td>3.000000</td>\n",
              "      <td>NaN</td>\n",
              "      <td>9.799716e+08</td>\n",
              "    </tr>\n",
              "    <tr>\n",
              "      <th>50%</th>\n",
              "      <td>5.921580e+05</td>\n",
              "      <td>NaN</td>\n",
              "      <td>4.000000</td>\n",
              "      <td>NaN</td>\n",
              "      <td>1.179200e+09</td>\n",
              "    </tr>\n",
              "    <tr>\n",
              "      <th>75%</th>\n",
              "      <td>6.470485e+05</td>\n",
              "      <td>NaN</td>\n",
              "      <td>4.500000</td>\n",
              "      <td>NaN</td>\n",
              "      <td>1.392410e+09</td>\n",
              "    </tr>\n",
              "    <tr>\n",
              "      <th>max</th>\n",
              "      <td>2.710343e+06</td>\n",
              "      <td>NaN</td>\n",
              "      <td>5.000000</td>\n",
              "      <td>NaN</td>\n",
              "      <td>1.498765e+09</td>\n",
              "    </tr>\n",
              "  </tbody>\n",
              "</table>\n",
              "</div>"
            ]
          },
          "metadata": {},
          "execution_count": 14
        }
      ],
      "metadata": {
        "colab": {
          "base_uri": "https://localhost:8080/",
          "height": 291
        },
        "id": "DsX7kd-UhRoo",
        "outputId": "dbbb1c7c-5e06-4131-f568-26bf011d011c"
      }
    },
    {
      "cell_type": "code",
      "execution_count": 15,
      "source": [
        "rating.dtypes\n",
        "student.dtypes"
      ],
      "outputs": [
        {
          "output_type": "execute_result",
          "data": {
            "text/plain": [
              "id_student                   int64\n",
              "gender                      object\n",
              "Category                     int64\n",
              "Area                        object\n",
              "Degree                      object\n",
              "Course                     float64\n",
              "Time zone                   object\n",
              "Availability time start     object\n",
              "Availability time end       object\n",
              "dtype: object"
            ]
          },
          "metadata": {},
          "execution_count": 15
        }
      ],
      "metadata": {}
    },
    {
      "cell_type": "code",
      "execution_count": 16,
      "source": [
        "rating_agg = rating.groupby('Mentor').Rating.agg(['count','mean']).reset_index()\n",
        "#rating_agg.sort_values('count',ascending=False).head(5)\n",
        "#rating_agg[rating_agg['Mentor']==600175]\n",
        "#rating[rating['Mentor']==600175]\n",
        "\n",
        "# Merge average rating and count of ratings to student data\n",
        "mentor_agg = student.merge(rating_agg,left_on='id_student',right_on='Mentor').reset_index()\n",
        "mentor_agg = mentor_agg.drop(['id_student','gender'],axis=1)\n",
        "\n",
        "#Filter out only mentor data\n",
        "#mentor_agg = mentor_agg[mentor_agg['Category'].isin([1,3])]\n",
        "\n",
        "mentor_agg.sort_values('count',ascending=False).head(5)"
      ],
      "outputs": [
        {
          "output_type": "execute_result",
          "data": {
            "text/plain": [
              "      index  Category                  Area    Degree  Course   Time zone  \\\n",
              "1993   1993         2     Materials Science       PhD     NaN  Antarctica   \n",
              "1992   1992         3  Chemical Engineering       PhD     NaN      Europe   \n",
              "1397   1397         3     Materials Science  Graduate     NaN      Europe   \n",
              "1398   1398         3                    IT  Graduate     NaN      Africa   \n",
              "1417   1417         1               Geology        MS     NaN  Antarctica   \n",
              "\n",
              "     Availability time start Availability time end  Mentor  count   mean  \n",
              "1993                   17:00                 23:00  600175      4  2.500  \n",
              "1992                   19:00                 23:00  600175      4  2.500  \n",
              "1397                   19:00                 23:00  598662      4  3.750  \n",
              "1398                   17:00                 23:00  598662      4  3.750  \n",
              "1417                   11:00                 15:00  603791      4  4.625  "
            ],
            "text/html": [
              "<div>\n",
              "<style scoped>\n",
              "    .dataframe tbody tr th:only-of-type {\n",
              "        vertical-align: middle;\n",
              "    }\n",
              "\n",
              "    .dataframe tbody tr th {\n",
              "        vertical-align: top;\n",
              "    }\n",
              "\n",
              "    .dataframe thead th {\n",
              "        text-align: right;\n",
              "    }\n",
              "</style>\n",
              "<table border=\"1\" class=\"dataframe\">\n",
              "  <thead>\n",
              "    <tr style=\"text-align: right;\">\n",
              "      <th></th>\n",
              "      <th>index</th>\n",
              "      <th>Category</th>\n",
              "      <th>Area</th>\n",
              "      <th>Degree</th>\n",
              "      <th>Course</th>\n",
              "      <th>Time zone</th>\n",
              "      <th>Availability time start</th>\n",
              "      <th>Availability time end</th>\n",
              "      <th>Mentor</th>\n",
              "      <th>count</th>\n",
              "      <th>mean</th>\n",
              "    </tr>\n",
              "  </thead>\n",
              "  <tbody>\n",
              "    <tr>\n",
              "      <th>1993</th>\n",
              "      <td>1993</td>\n",
              "      <td>2</td>\n",
              "      <td>Materials Science</td>\n",
              "      <td>PhD</td>\n",
              "      <td>NaN</td>\n",
              "      <td>Antarctica</td>\n",
              "      <td>17:00</td>\n",
              "      <td>23:00</td>\n",
              "      <td>600175</td>\n",
              "      <td>4</td>\n",
              "      <td>2.500</td>\n",
              "    </tr>\n",
              "    <tr>\n",
              "      <th>1992</th>\n",
              "      <td>1992</td>\n",
              "      <td>3</td>\n",
              "      <td>Chemical Engineering</td>\n",
              "      <td>PhD</td>\n",
              "      <td>NaN</td>\n",
              "      <td>Europe</td>\n",
              "      <td>19:00</td>\n",
              "      <td>23:00</td>\n",
              "      <td>600175</td>\n",
              "      <td>4</td>\n",
              "      <td>2.500</td>\n",
              "    </tr>\n",
              "    <tr>\n",
              "      <th>1397</th>\n",
              "      <td>1397</td>\n",
              "      <td>3</td>\n",
              "      <td>Materials Science</td>\n",
              "      <td>Graduate</td>\n",
              "      <td>NaN</td>\n",
              "      <td>Europe</td>\n",
              "      <td>19:00</td>\n",
              "      <td>23:00</td>\n",
              "      <td>598662</td>\n",
              "      <td>4</td>\n",
              "      <td>3.750</td>\n",
              "    </tr>\n",
              "    <tr>\n",
              "      <th>1398</th>\n",
              "      <td>1398</td>\n",
              "      <td>3</td>\n",
              "      <td>IT</td>\n",
              "      <td>Graduate</td>\n",
              "      <td>NaN</td>\n",
              "      <td>Africa</td>\n",
              "      <td>17:00</td>\n",
              "      <td>23:00</td>\n",
              "      <td>598662</td>\n",
              "      <td>4</td>\n",
              "      <td>3.750</td>\n",
              "    </tr>\n",
              "    <tr>\n",
              "      <th>1417</th>\n",
              "      <td>1417</td>\n",
              "      <td>1</td>\n",
              "      <td>Geology</td>\n",
              "      <td>MS</td>\n",
              "      <td>NaN</td>\n",
              "      <td>Antarctica</td>\n",
              "      <td>11:00</td>\n",
              "      <td>15:00</td>\n",
              "      <td>603791</td>\n",
              "      <td>4</td>\n",
              "      <td>4.625</td>\n",
              "    </tr>\n",
              "  </tbody>\n",
              "</table>\n",
              "</div>"
            ]
          },
          "metadata": {},
          "execution_count": 16
        }
      ],
      "metadata": {
        "colab": {
          "base_uri": "https://localhost:8080/"
        },
        "id": "VA7a1jvrhiUP",
        "outputId": "b32ba104-56c3-41be-f464-c5357e0e07a9"
      }
    },
    {
      "cell_type": "code",
      "execution_count": 17,
      "source": [
        "#Merge duplicate mentor records and create extended list of areas"
      ],
      "outputs": [],
      "metadata": {}
    },
    {
      "cell_type": "code",
      "execution_count": 18,
      "source": [
        "#Create a new column with skillsets - courses, area, major\n",
        "mentor_agg['Expertise'] = mentor_agg['Area'] + \" \" + mentor_agg['Degree'] #+mentor_agg['Course']\n",
        "\n",
        "mentor_agg.head(5)"
      ],
      "outputs": [
        {
          "output_type": "execute_result",
          "data": {
            "text/plain": [
              "   index  Category     Area    Degree  Course      Time zone  \\\n",
              "0      0         1     Math       PhD     NaN  North America   \n",
              "1      1         1       IT        MS     NaN         Europe   \n",
              "2      2         3  Biology       PhD     NaN     Antarctica   \n",
              "3      3         3       IT  Graduate     NaN         Africa   \n",
              "4      4         2       IT  Graduate     NaN         Africa   \n",
              "\n",
              "  Availability time start Availability time end  Mentor  count  mean  \\\n",
              "0                   20:00                 23:00   45462      1   3.5   \n",
              "1                   11:00                 13:00   65002      1   3.0   \n",
              "2                    9:00                 13:00   65002      1   3.0   \n",
              "3                   16:00                 18:00   74372      1   2.5   \n",
              "4                   14:00                 19:00  110175      1   3.5   \n",
              "\n",
              "     Expertise  \n",
              "0     Math PhD  \n",
              "1        IT MS  \n",
              "2  Biology PhD  \n",
              "3  IT Graduate  \n",
              "4  IT Graduate  "
            ],
            "text/html": [
              "<div>\n",
              "<style scoped>\n",
              "    .dataframe tbody tr th:only-of-type {\n",
              "        vertical-align: middle;\n",
              "    }\n",
              "\n",
              "    .dataframe tbody tr th {\n",
              "        vertical-align: top;\n",
              "    }\n",
              "\n",
              "    .dataframe thead th {\n",
              "        text-align: right;\n",
              "    }\n",
              "</style>\n",
              "<table border=\"1\" class=\"dataframe\">\n",
              "  <thead>\n",
              "    <tr style=\"text-align: right;\">\n",
              "      <th></th>\n",
              "      <th>index</th>\n",
              "      <th>Category</th>\n",
              "      <th>Area</th>\n",
              "      <th>Degree</th>\n",
              "      <th>Course</th>\n",
              "      <th>Time zone</th>\n",
              "      <th>Availability time start</th>\n",
              "      <th>Availability time end</th>\n",
              "      <th>Mentor</th>\n",
              "      <th>count</th>\n",
              "      <th>mean</th>\n",
              "      <th>Expertise</th>\n",
              "    </tr>\n",
              "  </thead>\n",
              "  <tbody>\n",
              "    <tr>\n",
              "      <th>0</th>\n",
              "      <td>0</td>\n",
              "      <td>1</td>\n",
              "      <td>Math</td>\n",
              "      <td>PhD</td>\n",
              "      <td>NaN</td>\n",
              "      <td>North America</td>\n",
              "      <td>20:00</td>\n",
              "      <td>23:00</td>\n",
              "      <td>45462</td>\n",
              "      <td>1</td>\n",
              "      <td>3.5</td>\n",
              "      <td>Math PhD</td>\n",
              "    </tr>\n",
              "    <tr>\n",
              "      <th>1</th>\n",
              "      <td>1</td>\n",
              "      <td>1</td>\n",
              "      <td>IT</td>\n",
              "      <td>MS</td>\n",
              "      <td>NaN</td>\n",
              "      <td>Europe</td>\n",
              "      <td>11:00</td>\n",
              "      <td>13:00</td>\n",
              "      <td>65002</td>\n",
              "      <td>1</td>\n",
              "      <td>3.0</td>\n",
              "      <td>IT MS</td>\n",
              "    </tr>\n",
              "    <tr>\n",
              "      <th>2</th>\n",
              "      <td>2</td>\n",
              "      <td>3</td>\n",
              "      <td>Biology</td>\n",
              "      <td>PhD</td>\n",
              "      <td>NaN</td>\n",
              "      <td>Antarctica</td>\n",
              "      <td>9:00</td>\n",
              "      <td>13:00</td>\n",
              "      <td>65002</td>\n",
              "      <td>1</td>\n",
              "      <td>3.0</td>\n",
              "      <td>Biology PhD</td>\n",
              "    </tr>\n",
              "    <tr>\n",
              "      <th>3</th>\n",
              "      <td>3</td>\n",
              "      <td>3</td>\n",
              "      <td>IT</td>\n",
              "      <td>Graduate</td>\n",
              "      <td>NaN</td>\n",
              "      <td>Africa</td>\n",
              "      <td>16:00</td>\n",
              "      <td>18:00</td>\n",
              "      <td>74372</td>\n",
              "      <td>1</td>\n",
              "      <td>2.5</td>\n",
              "      <td>IT Graduate</td>\n",
              "    </tr>\n",
              "    <tr>\n",
              "      <th>4</th>\n",
              "      <td>4</td>\n",
              "      <td>2</td>\n",
              "      <td>IT</td>\n",
              "      <td>Graduate</td>\n",
              "      <td>NaN</td>\n",
              "      <td>Africa</td>\n",
              "      <td>14:00</td>\n",
              "      <td>19:00</td>\n",
              "      <td>110175</td>\n",
              "      <td>1</td>\n",
              "      <td>3.5</td>\n",
              "      <td>IT Graduate</td>\n",
              "    </tr>\n",
              "  </tbody>\n",
              "</table>\n",
              "</div>"
            ]
          },
          "metadata": {},
          "execution_count": 18
        }
      ],
      "metadata": {}
    },
    {
      "cell_type": "code",
      "execution_count": 19,
      "source": [
        "#Assigning vectors to Expertise text \n",
        "from sklearn.feature_extraction.text import TfidfVectorizer\n",
        "\n",
        "tfv = TfidfVectorizer()\n",
        "\n",
        "#Fitting TF-IDF on the Expertise column\n",
        "tfv_matrix = tfv.fit_transform(mentor_agg['Expertise'])\n",
        "tfv_matrix.shape"
      ],
      "outputs": [
        {
          "output_type": "execute_result",
          "data": {
            "text/plain": [
              "(4469, 22)"
            ]
          },
          "metadata": {},
          "execution_count": 19
        }
      ],
      "metadata": {}
    },
    {
      "cell_type": "code",
      "execution_count": 20,
      "source": [
        "#Finding similarity between vectors using sigmoid kernel\n",
        "from sklearn.metrics.pairwise import sigmoid_kernel\n",
        "\n",
        "sig = sigmoid_kernel(tfv_matrix,tfv_matrix)\n",
        "sig[0]"
      ],
      "outputs": [
        {
          "output_type": "execute_result",
          "data": {
            "text/plain": [
              "array([0.78003289, 0.76159416, 0.7650908 , ..., 0.77387252, 0.78003289,\n",
              "       0.76807446])"
            ]
          },
          "metadata": {},
          "execution_count": 20
        }
      ],
      "metadata": {}
    },
    {
      "cell_type": "code",
      "execution_count": 23,
      "source": [
        "#Index mapping of student in matrix\n",
        "indices = pd.Series(mentor_agg.index,index=mentor_agg['Mentor']).drop_duplicates()\n",
        "indices.head(5)\n"
      ],
      "outputs": [
        {
          "output_type": "execute_result",
          "data": {
            "text/plain": [
              "Mentor\n",
              "45462     0\n",
              "65002     1\n",
              "65002     2\n",
              "74372     3\n",
              "110175    4\n",
              "dtype: int64"
            ]
          },
          "metadata": {},
          "execution_count": 23
        }
      ],
      "metadata": {}
    },
    {
      "cell_type": "code",
      "execution_count": 39,
      "source": [
        "def find_mentor(student_id,sig = sig):\n",
        "    id = indices[student_id]\n",
        "\n",
        "    sig_score = list(enumerate(sig[id]))\n",
        "    sig_score = sorted(sig_score, key = lambda x:x[1], reverse=True)\n",
        "\n",
        "    sig_score = sig_score[1:5]\n",
        "\n",
        "    mentors = [i[0] for i in sig_score]\n",
        "\n",
        "    return mentor_agg['Mentor'].iloc[mentors]"
      ],
      "outputs": [],
      "metadata": {}
    },
    {
      "cell_type": "code",
      "execution_count": 40,
      "source": [
        "find_mentor(45462)"
      ],
      "outputs": [
        {
          "output_type": "execute_result",
          "data": {
            "text/plain": [
              "8      148993\n",
              "128    400469\n",
              "141    465730\n",
              "188    530065\n",
              "Name: Mentor, dtype: int64"
            ]
          },
          "metadata": {},
          "execution_count": 40
        }
      ],
      "metadata": {}
    }
  ]
}