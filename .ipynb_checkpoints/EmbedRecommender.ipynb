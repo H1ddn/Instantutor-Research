{
 "cells": [
  {
   "cell_type": "code",
   "execution_count": 1,
   "id": "159908d2-73c5-4dd8-abbb-20947372d4aa",
   "metadata": {
    "tags": []
   },
   "outputs": [],
   "source": [
    "import numpy as np\n",
    "import pandas as pd\n",
    "import torch\n",
    "import sklearn\n",
    "import torch.nn as nn\n",
    "import torch.optim as optim\n",
    "import torch.utils.data as du\n",
    "import torch.nn.functional as F\n",
    "\n",
    "from tqdm import tqdm\n",
    "from torch.utils import data\n",
    "from collections import defaultdict\n",
    "from torch.utils.data import Dataset\n",
    "from torchvision import datasets, transforms"
   ]
  },
  {
   "cell_type": "code",
   "execution_count": 2,
   "id": "8d2afd7d-4520-4285-88ba-838bb6064887",
   "metadata": {},
   "outputs": [
    {
     "data": {
      "text/html": [
       "<div>\n",
       "<style scoped>\n",
       "    .dataframe tbody tr th:only-of-type {\n",
       "        vertical-align: middle;\n",
       "    }\n",
       "\n",
       "    .dataframe tbody tr th {\n",
       "        vertical-align: top;\n",
       "    }\n",
       "\n",
       "    .dataframe thead th {\n",
       "        text-align: right;\n",
       "    }\n",
       "</style>\n",
       "<table border=\"1\" class=\"dataframe\">\n",
       "  <thead>\n",
       "    <tr style=\"text-align: right;\">\n",
       "      <th></th>\n",
       "      <th>id_student</th>\n",
       "      <th>gender</th>\n",
       "      <th>Category(Mentor/Mentee/Both)</th>\n",
       "      <th>Area</th>\n",
       "      <th>Degree</th>\n",
       "      <th>Course</th>\n",
       "      <th>Time zone</th>\n",
       "      <th>Availability time start</th>\n",
       "      <th>Availability time end</th>\n",
       "    </tr>\n",
       "  </thead>\n",
       "  <tbody>\n",
       "    <tr>\n",
       "      <th>0</th>\n",
       "      <td>11391</td>\n",
       "      <td>M</td>\n",
       "      <td>1</td>\n",
       "      <td>IT</td>\n",
       "      <td>Undergraduate</td>\n",
       "      <td>NaN</td>\n",
       "      <td>Asia</td>\n",
       "      <td>9:00</td>\n",
       "      <td>14:00</td>\n",
       "    </tr>\n",
       "    <tr>\n",
       "      <th>1</th>\n",
       "      <td>28400</td>\n",
       "      <td>F</td>\n",
       "      <td>3</td>\n",
       "      <td>IT</td>\n",
       "      <td>Graduate</td>\n",
       "      <td>NaN</td>\n",
       "      <td>Pacific</td>\n",
       "      <td>16:00</td>\n",
       "      <td>18:00</td>\n",
       "    </tr>\n",
       "    <tr>\n",
       "      <th>2</th>\n",
       "      <td>30268</td>\n",
       "      <td>F</td>\n",
       "      <td>2</td>\n",
       "      <td>IT</td>\n",
       "      <td>PhD</td>\n",
       "      <td>NaN</td>\n",
       "      <td>Europe</td>\n",
       "      <td>12:00</td>\n",
       "      <td>15:00</td>\n",
       "    </tr>\n",
       "    <tr>\n",
       "      <th>3</th>\n",
       "      <td>31604</td>\n",
       "      <td>F</td>\n",
       "      <td>1</td>\n",
       "      <td>IT</td>\n",
       "      <td>PhD</td>\n",
       "      <td>NaN</td>\n",
       "      <td>Central</td>\n",
       "      <td>14:00</td>\n",
       "      <td>23:00</td>\n",
       "    </tr>\n",
       "    <tr>\n",
       "      <th>4</th>\n",
       "      <td>32885</td>\n",
       "      <td>F</td>\n",
       "      <td>3</td>\n",
       "      <td>IT</td>\n",
       "      <td>Undergraduate</td>\n",
       "      <td>NaN</td>\n",
       "      <td>Europe</td>\n",
       "      <td>20:00</td>\n",
       "      <td>23:00</td>\n",
       "    </tr>\n",
       "  </tbody>\n",
       "</table>\n",
       "</div>"
      ],
      "text/plain": [
       "   id_student gender  Category(Mentor/Mentee/Both) Area         Degree  \\\n",
       "0       11391      M                             1   IT  Undergraduate   \n",
       "1       28400      F                             3   IT       Graduate   \n",
       "2       30268      F                             2   IT            PhD   \n",
       "3       31604      F                             1   IT            PhD   \n",
       "4       32885      F                             3   IT  Undergraduate   \n",
       "\n",
       "   Course Time zone Availability time start Availability time end  \n",
       "0     NaN      Asia                    9:00                 14:00  \n",
       "1     NaN   Pacific                   16:00                 18:00  \n",
       "2     NaN    Europe                   12:00                 15:00  \n",
       "3     NaN   Central                   14:00                 23:00  \n",
       "4     NaN    Europe                   20:00                 23:00  "
      ]
     },
     "execution_count": 2,
     "metadata": {},
     "output_type": "execute_result"
    }
   ],
   "source": [
    "#Obtain student data from the github\n",
    "url_student = 'https://raw.githubusercontent.com/Instantutor/Instantutor-Research/main/Datasets/Data.csv'\n",
    "student = pd.read_csv(url_student)\n",
    "\n",
    "#Take a look at the first 5 rows\n",
    "student.head()"
   ]
  },
  {
   "cell_type": "code",
   "execution_count": 3,
   "id": "b684c818-2349-421d-a9e4-99b6d10101e7",
   "metadata": {},
   "outputs": [
    {
     "data": {
      "text/html": [
       "<div>\n",
       "<style scoped>\n",
       "    .dataframe tbody tr th:only-of-type {\n",
       "        vertical-align: middle;\n",
       "    }\n",
       "\n",
       "    .dataframe tbody tr th {\n",
       "        vertical-align: top;\n",
       "    }\n",
       "\n",
       "    .dataframe thead th {\n",
       "        text-align: right;\n",
       "    }\n",
       "</style>\n",
       "<table border=\"1\" class=\"dataframe\">\n",
       "  <thead>\n",
       "    <tr style=\"text-align: right;\">\n",
       "      <th></th>\n",
       "      <th>id_student</th>\n",
       "      <th>gender</th>\n",
       "      <th>Area</th>\n",
       "      <th>Time zone</th>\n",
       "      <th>Availability time start</th>\n",
       "      <th>Availability time end</th>\n",
       "    </tr>\n",
       "  </thead>\n",
       "  <tbody>\n",
       "    <tr>\n",
       "      <th>0</th>\n",
       "      <td>11391</td>\n",
       "      <td>M</td>\n",
       "      <td>IT</td>\n",
       "      <td>Asia</td>\n",
       "      <td>9:00</td>\n",
       "      <td>14:00</td>\n",
       "    </tr>\n",
       "    <tr>\n",
       "      <th>1</th>\n",
       "      <td>28400</td>\n",
       "      <td>F</td>\n",
       "      <td>IT</td>\n",
       "      <td>Pacific</td>\n",
       "      <td>16:00</td>\n",
       "      <td>18:00</td>\n",
       "    </tr>\n",
       "    <tr>\n",
       "      <th>2</th>\n",
       "      <td>30268</td>\n",
       "      <td>F</td>\n",
       "      <td>IT</td>\n",
       "      <td>Europe</td>\n",
       "      <td>12:00</td>\n",
       "      <td>15:00</td>\n",
       "    </tr>\n",
       "    <tr>\n",
       "      <th>3</th>\n",
       "      <td>31604</td>\n",
       "      <td>F</td>\n",
       "      <td>IT</td>\n",
       "      <td>Central</td>\n",
       "      <td>14:00</td>\n",
       "      <td>23:00</td>\n",
       "    </tr>\n",
       "    <tr>\n",
       "      <th>4</th>\n",
       "      <td>32885</td>\n",
       "      <td>F</td>\n",
       "      <td>IT</td>\n",
       "      <td>Europe</td>\n",
       "      <td>20:00</td>\n",
       "      <td>23:00</td>\n",
       "    </tr>\n",
       "  </tbody>\n",
       "</table>\n",
       "</div>"
      ],
      "text/plain": [
       "   id_student gender Area Time zone Availability time start  \\\n",
       "0       11391      M   IT      Asia                    9:00   \n",
       "1       28400      F   IT   Pacific                   16:00   \n",
       "2       30268      F   IT    Europe                   12:00   \n",
       "3       31604      F   IT   Central                   14:00   \n",
       "4       32885      F   IT    Europe                   20:00   \n",
       "\n",
       "  Availability time end  \n",
       "0                 14:00  \n",
       "1                 18:00  \n",
       "2                 15:00  \n",
       "3                 23:00  \n",
       "4                 23:00  "
      ]
     },
     "execution_count": 3,
     "metadata": {},
     "output_type": "execute_result"
    }
   ],
   "source": [
    "#Drop unnecessary info, for now, we will drop course. In the future, we can simply do a dot product of course and a tutor's speciality.\n",
    "student.drop(['Category(Mentor/Mentee/Both)', 'Degree', 'Course'], axis = 1, inplace = True)\n",
    "student.head()"
   ]
  },
  {
   "cell_type": "code",
   "execution_count": 4,
   "id": "57e83287-7e00-48e9-96ef-adeab27b07ef",
   "metadata": {},
   "outputs": [
    {
     "data": {
      "text/html": [
       "<div>\n",
       "<style scoped>\n",
       "    .dataframe tbody tr th:only-of-type {\n",
       "        vertical-align: middle;\n",
       "    }\n",
       "\n",
       "    .dataframe tbody tr th {\n",
       "        vertical-align: top;\n",
       "    }\n",
       "\n",
       "    .dataframe thead th {\n",
       "        text-align: right;\n",
       "    }\n",
       "</style>\n",
       "<table border=\"1\" class=\"dataframe\">\n",
       "  <thead>\n",
       "    <tr style=\"text-align: right;\">\n",
       "      <th></th>\n",
       "      <th>Mentor</th>\n",
       "      <th>Mentee</th>\n",
       "      <th>Rating</th>\n",
       "      <th>Comments</th>\n",
       "      <th>Time stamp</th>\n",
       "    </tr>\n",
       "  </thead>\n",
       "  <tbody>\n",
       "    <tr>\n",
       "      <th>0</th>\n",
       "      <td>366449</td>\n",
       "      <td>NaN</td>\n",
       "      <td>1.0</td>\n",
       "      <td>NaN</td>\n",
       "      <td>1425941529</td>\n",
       "    </tr>\n",
       "    <tr>\n",
       "      <th>1</th>\n",
       "      <td>1677677</td>\n",
       "      <td>NaN</td>\n",
       "      <td>4.5</td>\n",
       "      <td>NaN</td>\n",
       "      <td>1425942435</td>\n",
       "    </tr>\n",
       "    <tr>\n",
       "      <th>2</th>\n",
       "      <td>553755</td>\n",
       "      <td>NaN</td>\n",
       "      <td>5.0</td>\n",
       "      <td>NaN</td>\n",
       "      <td>1425941523</td>\n",
       "    </tr>\n",
       "    <tr>\n",
       "      <th>3</th>\n",
       "      <td>611182</td>\n",
       "      <td>NaN</td>\n",
       "      <td>5.0</td>\n",
       "      <td>NaN</td>\n",
       "      <td>1425941546</td>\n",
       "    </tr>\n",
       "    <tr>\n",
       "      <th>4</th>\n",
       "      <td>646184</td>\n",
       "      <td>NaN</td>\n",
       "      <td>5.0</td>\n",
       "      <td>NaN</td>\n",
       "      <td>1425941556</td>\n",
       "    </tr>\n",
       "  </tbody>\n",
       "</table>\n",
       "</div>"
      ],
      "text/plain": [
       "    Mentor  Mentee  Rating  Comments  Time stamp\n",
       "0   366449     NaN     1.0       NaN  1425941529\n",
       "1  1677677     NaN     4.5       NaN  1425942435\n",
       "2   553755     NaN     5.0       NaN  1425941523\n",
       "3   611182     NaN     5.0       NaN  1425941546\n",
       "4   646184     NaN     5.0       NaN  1425941556"
      ]
     },
     "execution_count": 4,
     "metadata": {},
     "output_type": "execute_result"
    }
   ],
   "source": [
    "#Obtain rating data from the github\n",
    "url_rating = 'https://raw.githubusercontent.com/Instantutor/Instantutor-Research/main/Datasets/Rating.csv'\n",
    "rating = pd.read_csv(url_rating)\n",
    "\n",
    "#Take a look at the first 5 rows\n",
    "rating.head()"
   ]
  },
  {
   "cell_type": "code",
   "execution_count": 5,
   "id": "69d0e50b-f061-4405-8f5f-129abbdb11a5",
   "metadata": {},
   "outputs": [
    {
     "data": {
      "text/html": [
       "<div>\n",
       "<style scoped>\n",
       "    .dataframe tbody tr th:only-of-type {\n",
       "        vertical-align: middle;\n",
       "    }\n",
       "\n",
       "    .dataframe tbody tr th {\n",
       "        vertical-align: top;\n",
       "    }\n",
       "\n",
       "    .dataframe thead th {\n",
       "        text-align: right;\n",
       "    }\n",
       "</style>\n",
       "<table border=\"1\" class=\"dataframe\">\n",
       "  <thead>\n",
       "    <tr style=\"text-align: right;\">\n",
       "      <th></th>\n",
       "      <th>Mentor</th>\n",
       "      <th>Rating</th>\n",
       "    </tr>\n",
       "  </thead>\n",
       "  <tbody>\n",
       "    <tr>\n",
       "      <th>0</th>\n",
       "      <td>366449</td>\n",
       "      <td>1.0</td>\n",
       "    </tr>\n",
       "    <tr>\n",
       "      <th>1</th>\n",
       "      <td>1677677</td>\n",
       "      <td>4.5</td>\n",
       "    </tr>\n",
       "    <tr>\n",
       "      <th>2</th>\n",
       "      <td>553755</td>\n",
       "      <td>5.0</td>\n",
       "    </tr>\n",
       "    <tr>\n",
       "      <th>3</th>\n",
       "      <td>611182</td>\n",
       "      <td>5.0</td>\n",
       "    </tr>\n",
       "    <tr>\n",
       "      <th>4</th>\n",
       "      <td>646184</td>\n",
       "      <td>5.0</td>\n",
       "    </tr>\n",
       "  </tbody>\n",
       "</table>\n",
       "</div>"
      ],
      "text/plain": [
       "    Mentor  Rating\n",
       "0   366449     1.0\n",
       "1  1677677     4.5\n",
       "2   553755     5.0\n",
       "3   611182     5.0\n",
       "4   646184     5.0"
      ]
     },
     "execution_count": 5,
     "metadata": {},
     "output_type": "execute_result"
    }
   ],
   "source": [
    "#Drop Unnecessary Information, in the future we can find do sentiment analysis on comments to create a +- value.\n",
    "rating.drop(['Mentee', 'Time stamp', 'Comments'], axis = 1, inplace = True)\n",
    "rating.head()"
   ]
  },
  {
   "cell_type": "code",
   "execution_count": 6,
   "id": "be745d7e-aa41-4709-bea1-067e59071a4c",
   "metadata": {},
   "outputs": [
    {
     "name": "stdout",
     "output_type": "stream",
     "text": [
      "IT                      3338\n",
      "Chemistry               3299\n",
      "Math                    3265\n",
      "Chemical Engineering    3231\n",
      "Materials Science       3182\n",
      "History                 3155\n",
      "Geology                 3151\n",
      "Computer Science        3133\n",
      "Aerospace               3131\n",
      "Physics                 3114\n",
      "French                   130\n",
      "Arabic                   118\n",
      "Science                  102\n",
      "English                   90\n",
      "Biology                   60\n",
      "Spanish                   50\n",
      "Quran                     44\n",
      "Name: Area, dtype: int64\n",
      "Asia             4162\n",
      "Europe           4096\n",
      "Africa           4095\n",
      "Australia        4082\n",
      "Pacific          4064\n",
      "North America    4040\n",
      "Central          4034\n",
      "Antarctica       4020\n",
      "Name: Time zone, dtype: int64\n"
     ]
    }
   ],
   "source": [
    "#View the Distribution of Data\n",
    "print(student['Area'].value_counts())\n",
    "print(student['Time zone'].value_counts())"
   ]
  },
  {
   "cell_type": "code",
   "execution_count": 7,
   "id": "a7f80f0f-aeef-4f58-bca6-6611a1bc7842",
   "metadata": {},
   "outputs": [
    {
     "name": "stdout",
     "output_type": "stream",
     "text": [
      "IT                      0.102415\n",
      "Chemistry               0.101218\n",
      "Math                    0.100175\n",
      "Chemical Engineering    0.099132\n",
      "Materials Science       0.097628\n",
      "History                 0.096800\n",
      "Geology                 0.096677\n",
      "Computer Science        0.096125\n",
      "Aerospace               0.096064\n",
      "Physics                 0.095542\n",
      "French                  0.003989\n",
      "Arabic                  0.003620\n",
      "Science                 0.003130\n",
      "English                 0.002761\n",
      "Biology                 0.001841\n",
      "Spanish                 0.001534\n",
      "Quran                   0.001350\n",
      "Name: Area, dtype: float64\n"
     ]
    }
   ],
   "source": [
    "#Obtain all possible labels for each column to be generated\n",
    "possible_areas = student['Area'].unique()\n",
    "possible_zones = student['Time zone'].unique()\n",
    "possible_times = [\"0:00\", \"1:00\", \"2:00\", \"3:00\", \"4:00\", \"5:00\", \"6:00\", \"7:00\", \"8:00\", \"9:00\", \"10:00\", \"11:00\", \"12:00\", \"13:00\", \"14:00\", \"15:00\", \"16:00\", \"17:00\", \"18:00\", \"19:00\", \"20:00\", \"21:00\", \"22:00\", \"23:00\"] \n",
    "possible_genders = ['F', 'M']\n",
    "\n",
    "#3999 rows\n",
    "\n",
    "student_rows = student['Area'].size\n",
    "rating_rows = rating['Mentor'].size\n",
    "\n",
    "#obtain the distribution\n",
    "spreads = student['Area'].value_counts()\n",
    "distribution = spreads.div(student_rows)\n",
    "print(distribution)"
   ]
  },
  {
   "cell_type": "code",
   "execution_count": 8,
   "id": "7ae6f8cf-2a41-470a-9aa1-718b27a9daea",
   "metadata": {},
   "outputs": [
    {
     "data": {
      "text/html": [
       "<div>\n",
       "<style scoped>\n",
       "    .dataframe tbody tr th:only-of-type {\n",
       "        vertical-align: middle;\n",
       "    }\n",
       "\n",
       "    .dataframe tbody tr th {\n",
       "        vertical-align: top;\n",
       "    }\n",
       "\n",
       "    .dataframe thead th {\n",
       "        text-align: right;\n",
       "    }\n",
       "</style>\n",
       "<table border=\"1\" class=\"dataframe\">\n",
       "  <thead>\n",
       "    <tr style=\"text-align: right;\">\n",
       "      <th></th>\n",
       "      <th>Mentor</th>\n",
       "      <th>Rating</th>\n",
       "      <th>gender</th>\n",
       "      <th>Area</th>\n",
       "      <th>Time zone</th>\n",
       "      <th>Availability time start</th>\n",
       "      <th>Availability time end</th>\n",
       "    </tr>\n",
       "  </thead>\n",
       "  <tbody>\n",
       "    <tr>\n",
       "      <th>0</th>\n",
       "      <td>366449</td>\n",
       "      <td>1.0</td>\n",
       "      <td>M</td>\n",
       "      <td>IT</td>\n",
       "      <td>North America</td>\n",
       "      <td>9:00</td>\n",
       "      <td>14:00</td>\n",
       "    </tr>\n",
       "    <tr>\n",
       "      <th>1</th>\n",
       "      <td>1677677</td>\n",
       "      <td>4.5</td>\n",
       "      <td>F</td>\n",
       "      <td>Math</td>\n",
       "      <td>Antarctica</td>\n",
       "      <td>5:00</td>\n",
       "      <td>15:00</td>\n",
       "    </tr>\n",
       "    <tr>\n",
       "      <th>2</th>\n",
       "      <td>553755</td>\n",
       "      <td>5.0</td>\n",
       "      <td>F</td>\n",
       "      <td>French</td>\n",
       "      <td>Antarctica</td>\n",
       "      <td>21:00</td>\n",
       "      <td>6:00</td>\n",
       "    </tr>\n",
       "    <tr>\n",
       "      <th>3</th>\n",
       "      <td>611182</td>\n",
       "      <td>5.0</td>\n",
       "      <td>M</td>\n",
       "      <td>Quran</td>\n",
       "      <td>Australia</td>\n",
       "      <td>0:00</td>\n",
       "      <td>14:00</td>\n",
       "    </tr>\n",
       "    <tr>\n",
       "      <th>4</th>\n",
       "      <td>646184</td>\n",
       "      <td>5.0</td>\n",
       "      <td>M</td>\n",
       "      <td>Materials Science</td>\n",
       "      <td>Central</td>\n",
       "      <td>14:00</td>\n",
       "      <td>7:00</td>\n",
       "    </tr>\n",
       "  </tbody>\n",
       "</table>\n",
       "</div>"
      ],
      "text/plain": [
       "    Mentor  Rating gender               Area      Time zone  \\\n",
       "0   366449     1.0      M                 IT  North America   \n",
       "1  1677677     4.5      F               Math     Antarctica   \n",
       "2   553755     5.0      F             French     Antarctica   \n",
       "3   611182     5.0      M              Quran      Australia   \n",
       "4   646184     5.0      M  Materials Science        Central   \n",
       "\n",
       "  Availability time start Availability time end  \n",
       "0                    9:00                 14:00  \n",
       "1                    5:00                 15:00  \n",
       "2                   21:00                  6:00  \n",
       "3                    0:00                 14:00  \n",
       "4                   14:00                  7:00  "
      ]
     },
     "execution_count": 8,
     "metadata": {},
     "output_type": "execute_result"
    }
   ],
   "source": [
    "# Only Area generation is weighted. Other data generation will be uniformly distributed.\n",
    "rating['gender'] = np.random.choice(possible_genders, rating_rows)\n",
    "rating['Area'] = np.random.choice(possible_areas, rating_rows, p = distribution.values)\n",
    "rating['Time zone'] = np.random.choice(possible_zones, rating_rows)\n",
    "rating['Availability time start'] = np.random.choice(possible_times, rating_rows)\n",
    "rating['Availability time end'] = np.random.choice(possible_times, rating_rows)\n",
    "\n",
    "#view the new ratings data\n",
    "rating.head()"
   ]
  },
  {
   "cell_type": "code",
   "execution_count": 9,
   "id": "15b929e9-bc9f-494c-9620-6b1d9962db13",
   "metadata": {},
   "outputs": [],
   "source": [
    "#Since we are only comparing similarity, we can exclude rating from the encoder and simply sort recommended tutors by their rating at the end.\n",
    "\n",
    "#Store the mentor:rating pairs as a dictionary for future access\n",
    "Mentor_to_rating = rating.groupby('Mentor')['Rating'].apply(list).to_dict()\n",
    "\n",
    "#Drop the rating column\n",
    "rating.drop('Rating', axis = 1, inplace = True)"
   ]
  },
  {
   "cell_type": "markdown",
   "id": "aefad23c-4ddd-4422-a91a-a976524cad2b",
   "metadata": {},
   "source": [
    "We will use a classification task to train our embeddings. To do so, we will create positive pairs using collaborative filtering\n",
    "and randomly sampled negative pairs. For each user, we want to create 3 positive samples and 15 negative samples. We can choose to pass these as batches."
   ]
  },
  {
   "cell_type": "code",
   "execution_count": 10,
   "id": "bfa5b3d3-ec2c-4b3c-8ac5-392db0e496eb",
   "metadata": {},
   "outputs": [
    {
     "name": "stdout",
     "output_type": "stream",
     "text": [
      "Genders: {'F': 0, 'M': 1}\n",
      "Areas: {'IT': 0, 'Math': 1, 'Arabic': 2, 'Science': 3, 'English': 4, 'Quran': 5, 'Spanish': 6, 'French': 7, 'History': 8, 'Biology': 9, 'Chemistry': 10, 'Geology': 11, 'Chemical Engineering': 12, 'Computer Science': 13, 'Physics': 14, 'Materials Science': 15, 'Aerospace': 16}\n",
      "Times: {'Asia': 0, 'Pacific': 1, 'Europe': 2, 'Central': 3, 'North America': 4, 'Australia': 5, 'Antarctica': 6, 'Africa': 7}\n",
      "Availabilities: {'0:00': 0, '1:00': 1, '2:00': 2, '3:00': 3, '4:00': 4, '5:00': 5, '6:00': 6, '7:00': 7, '8:00': 8, '9:00': 9, '10:00': 10, '11:00': 11, '12:00': 12, '13:00': 13, '14:00': 14, '15:00': 15, '16:00': 16, '17:00': 17, '18:00': 18, '19:00': 19, '20:00': 20, '21:00': 21, '22:00': 22, '23:00': 23}\n"
     ]
    }
   ],
   "source": [
    "#First, we want to convert the features of each student and tutor to numerical values.\n",
    "gender_to_val = {possible_genders[i]:i for i in range(len(possible_genders))}\n",
    "area_to_val = {possible_areas[i]:i for i in range(len(possible_areas))}\n",
    "time_to_val = {possible_zones[i]:i for i in range(len(possible_zones))}\n",
    "avail_to_val = {possible_times[i]:i  for i in range(len(possible_times))}\n",
    "\n",
    "print(f\"Genders: {gender_to_val}\\nAreas: {area_to_val}\\nTimes: {time_to_val}\\nAvailabilities: {avail_to_val}\")"
   ]
  },
  {
   "cell_type": "code",
   "execution_count": 11,
   "id": "7112b993-896d-4251-9b07-1eeccd14a4fe",
   "metadata": {},
   "outputs": [
    {
     "data": {
      "text/html": [
       "<div>\n",
       "<style scoped>\n",
       "    .dataframe tbody tr th:only-of-type {\n",
       "        vertical-align: middle;\n",
       "    }\n",
       "\n",
       "    .dataframe tbody tr th {\n",
       "        vertical-align: top;\n",
       "    }\n",
       "\n",
       "    .dataframe thead th {\n",
       "        text-align: right;\n",
       "    }\n",
       "</style>\n",
       "<table border=\"1\" class=\"dataframe\">\n",
       "  <thead>\n",
       "    <tr style=\"text-align: right;\">\n",
       "      <th></th>\n",
       "      <th>id_student</th>\n",
       "      <th>gender</th>\n",
       "      <th>Area</th>\n",
       "      <th>Time zone</th>\n",
       "      <th>Availability time start</th>\n",
       "      <th>Availability time end</th>\n",
       "    </tr>\n",
       "  </thead>\n",
       "  <tbody>\n",
       "    <tr>\n",
       "      <th>0</th>\n",
       "      <td>11391</td>\n",
       "      <td>1</td>\n",
       "      <td>0</td>\n",
       "      <td>0</td>\n",
       "      <td>9</td>\n",
       "      <td>14</td>\n",
       "    </tr>\n",
       "    <tr>\n",
       "      <th>1</th>\n",
       "      <td>28400</td>\n",
       "      <td>0</td>\n",
       "      <td>0</td>\n",
       "      <td>1</td>\n",
       "      <td>16</td>\n",
       "      <td>18</td>\n",
       "    </tr>\n",
       "    <tr>\n",
       "      <th>2</th>\n",
       "      <td>30268</td>\n",
       "      <td>0</td>\n",
       "      <td>0</td>\n",
       "      <td>2</td>\n",
       "      <td>12</td>\n",
       "      <td>15</td>\n",
       "    </tr>\n",
       "    <tr>\n",
       "      <th>3</th>\n",
       "      <td>31604</td>\n",
       "      <td>0</td>\n",
       "      <td>0</td>\n",
       "      <td>3</td>\n",
       "      <td>14</td>\n",
       "      <td>23</td>\n",
       "    </tr>\n",
       "    <tr>\n",
       "      <th>4</th>\n",
       "      <td>32885</td>\n",
       "      <td>0</td>\n",
       "      <td>0</td>\n",
       "      <td>2</td>\n",
       "      <td>20</td>\n",
       "      <td>23</td>\n",
       "    </tr>\n",
       "  </tbody>\n",
       "</table>\n",
       "</div>"
      ],
      "text/plain": [
       "   id_student  gender  Area  Time zone  Availability time start  \\\n",
       "0       11391       1     0          0                        9   \n",
       "1       28400       0     0          1                       16   \n",
       "2       30268       0     0          2                       12   \n",
       "3       31604       0     0          3                       14   \n",
       "4       32885       0     0          2                       20   \n",
       "\n",
       "   Availability time end  \n",
       "0                     14  \n",
       "1                     18  \n",
       "2                     15  \n",
       "3                     23  \n",
       "4                     23  "
      ]
     },
     "execution_count": 11,
     "metadata": {},
     "output_type": "execute_result"
    }
   ],
   "source": [
    "#Replace any non numerical values according to the dictionary.\n",
    "student = student.replace(gender_to_val)\n",
    "student = student.replace(area_to_val)\n",
    "student = student.replace(time_to_val)\n",
    "student = student.replace(avail_to_val)\n",
    "\n",
    "#visualize the user data\n",
    "student.head()"
   ]
  },
  {
   "cell_type": "code",
   "execution_count": 12,
   "id": "f6cc64cb-8c43-4486-8731-ad71e667305a",
   "metadata": {},
   "outputs": [
    {
     "data": {
      "text/html": [
       "<div>\n",
       "<style scoped>\n",
       "    .dataframe tbody tr th:only-of-type {\n",
       "        vertical-align: middle;\n",
       "    }\n",
       "\n",
       "    .dataframe tbody tr th {\n",
       "        vertical-align: top;\n",
       "    }\n",
       "\n",
       "    .dataframe thead th {\n",
       "        text-align: right;\n",
       "    }\n",
       "</style>\n",
       "<table border=\"1\" class=\"dataframe\">\n",
       "  <thead>\n",
       "    <tr style=\"text-align: right;\">\n",
       "      <th></th>\n",
       "      <th>Mentor</th>\n",
       "      <th>gender</th>\n",
       "      <th>Area</th>\n",
       "      <th>Time zone</th>\n",
       "      <th>Availability time start</th>\n",
       "      <th>Availability time end</th>\n",
       "    </tr>\n",
       "  </thead>\n",
       "  <tbody>\n",
       "    <tr>\n",
       "      <th>0</th>\n",
       "      <td>366449</td>\n",
       "      <td>1</td>\n",
       "      <td>0</td>\n",
       "      <td>4</td>\n",
       "      <td>9</td>\n",
       "      <td>14</td>\n",
       "    </tr>\n",
       "    <tr>\n",
       "      <th>1</th>\n",
       "      <td>1677677</td>\n",
       "      <td>0</td>\n",
       "      <td>1</td>\n",
       "      <td>6</td>\n",
       "      <td>5</td>\n",
       "      <td>15</td>\n",
       "    </tr>\n",
       "    <tr>\n",
       "      <th>2</th>\n",
       "      <td>553755</td>\n",
       "      <td>0</td>\n",
       "      <td>7</td>\n",
       "      <td>6</td>\n",
       "      <td>21</td>\n",
       "      <td>6</td>\n",
       "    </tr>\n",
       "    <tr>\n",
       "      <th>3</th>\n",
       "      <td>611182</td>\n",
       "      <td>1</td>\n",
       "      <td>5</td>\n",
       "      <td>5</td>\n",
       "      <td>0</td>\n",
       "      <td>14</td>\n",
       "    </tr>\n",
       "    <tr>\n",
       "      <th>4</th>\n",
       "      <td>646184</td>\n",
       "      <td>1</td>\n",
       "      <td>15</td>\n",
       "      <td>3</td>\n",
       "      <td>14</td>\n",
       "      <td>7</td>\n",
       "    </tr>\n",
       "  </tbody>\n",
       "</table>\n",
       "</div>"
      ],
      "text/plain": [
       "    Mentor  gender  Area  Time zone  Availability time start  \\\n",
       "0   366449       1     0          4                        9   \n",
       "1  1677677       0     1          6                        5   \n",
       "2   553755       0     7          6                       21   \n",
       "3   611182       1     5          5                        0   \n",
       "4   646184       1    15          3                       14   \n",
       "\n",
       "   Availability time end  \n",
       "0                     14  \n",
       "1                     15  \n",
       "2                      6  \n",
       "3                     14  \n",
       "4                      7  "
      ]
     },
     "execution_count": 12,
     "metadata": {},
     "output_type": "execute_result"
    }
   ],
   "source": [
    "rating = rating.replace(gender_to_val)\n",
    "rating = rating.replace(area_to_val)\n",
    "rating = rating.replace(time_to_val)\n",
    "rating = rating.replace(avail_to_val)\n",
    "\n",
    "#visualize the rating data\n",
    "rating.head()"
   ]
  },
  {
   "cell_type": "code",
   "execution_count": 13,
   "id": "db0bcd11-a2ef-4265-b78c-6916c33d349d",
   "metadata": {},
   "outputs": [],
   "source": [
    "#Make a mapping of users and tutors to indicies. This way, we can keep track of the books. Also create a reverse mapping.\n",
    "list_tutors = rating['Mentor'].tolist()\n",
    "list_users = student['id_student'].tolist()\n",
    "\n",
    "#create mappings for users\n",
    "idx_to_user = {index: user for (index, user) in enumerate(list_users)}\n",
    "user_to_idx = {user: index for (index, user) in enumerate(list_users)}\n",
    "\n",
    "#create mappings for tutors\n",
    "idx_to_tutor = {index: tutor for (index, tutor) in enumerate(list_tutors)}\n",
    "tutor_to_idx = {tutor: index for (index, tutor) in enumerate(list_tutors)}"
   ]
  },
  {
   "cell_type": "code",
   "execution_count": 14,
   "id": "6d03f83e-a913-4cf2-ae0b-18d7048bfa73",
   "metadata": {},
   "outputs": [],
   "source": [
    "#We do not want repeat tutors or students to be overrepresented in the current data.\n",
    "#Remove duplicate student ids or tutor ids.\n",
    "duplicate_users = student[student.duplicated(subset = 'id_student', keep = 'first')]\n",
    "duplicate_tutors = rating[rating.duplicated(subset = 'Mentor', keep = 'first')]\n",
    "\n",
    "#drop the duplicate students and users\n",
    "student.drop(index = duplicate_users.index, inplace = True)\n",
    "rating.drop(index = duplicate_tutors.index, inplace = True)\n",
    "\n",
    "#Since we have a mapping now, we can remove the ids from the dataframe, set inplace to false so that a new copy of the df is made.\n",
    "final_user = student.drop('id_student', axis = 1, inplace = False)\n",
    "final_tutor = rating.drop('Mentor', axis = 1, inplace = False)"
   ]
  },
  {
   "cell_type": "markdown",
   "id": "fc88c24c-f04f-419b-af6e-604e44ff2339",
   "metadata": {},
   "source": [
    "Then, we can generate positive and negative samples through collaborative filtering.\n",
    "When selecting positive samples, cosine similarity will be weighted based on the following criteria:\n",
    "* Gender: 5%\n",
    "* Area: 50%\n",
    "* Time Zone: 20%\n",
    "* Availability Time Start: 20%\n",
    "* Availability Time End: 5%"
   ]
  },
  {
   "cell_type": "code",
   "execution_count": 15,
   "id": "96fded0d-6fdf-4e3e-a6bc-b7f4fc834335",
   "metadata": {},
   "outputs": [],
   "source": [
    "weights = [0.05, 0.50, 0.20, 0.20, 0.05]"
   ]
  },
  {
   "cell_type": "code",
   "execution_count": 16,
   "id": "362b9667-dc9e-483d-bc51-586104b348f7",
   "metadata": {},
   "outputs": [],
   "source": [
    "def weighted_Norm(user, tutor, weights):\n",
    "    '''\n",
    "    Calculate a weighted euclidean distance given a user and a tutor.\n",
    "    Since we are using distance, we can simply set student rating to 1 as default and ratings from 0 to 5 as 0 - 1 respectively.\n",
    "    '''\n",
    "    dist = user-tutor\n",
    "    weighted_dist = np.sqrt((weights*dist*dist).sum())\n",
    "    return weighted_dist"
   ]
  },
  {
   "cell_type": "code",
   "execution_count": 17,
   "id": "1de78d58-498d-44a6-a3a2-a7045ab8dd9c",
   "metadata": {},
   "outputs": [],
   "source": [
    "class find_Positives:\n",
    "    def __init__(self, tutors, pos_samples, neg_samples, weights):\n",
    "        '''\n",
    "        weights - The weights for each feature of a tutor when deciding a similarity score. the weight of mentor must be 0.\n",
    "        pos_samples - the number of positive samples per user\n",
    "        neg_samples - the number of negative samples per user\n",
    "        tutors - tutor data and their features\n",
    "        '''\n",
    "        self.tutors = tutors\n",
    "        self.num_pos = pos_samples\n",
    "        self.num_neg = neg_samples\n",
    "        self.weights = weights\n",
    "    \n",
    "    def get_pairs(self, user):\n",
    "        ''' given a user, generate positive and negative pairs for that user '''\n",
    "        \n",
    "        #use weghted euclidean distance to generate num_pos positive samples.\n",
    "        distances = [weighted_Norm(user, tutor, self.weights) for tutor in self.tutors]\n",
    "        #obtain indicies of the lowest num_pos distances in linear time.\n",
    "        pos_pairs = np.argpartition(distances, self.num_pos)[:self.num_pos]\n",
    "        \n",
    "        #generate num_neg negative samples that are not part of the positive samples. We can also randomly sample them from the x highest euclidean distance tutors. \n",
    "        t_ind = np.arange(len(tutors))\n",
    "        t_ind = np.delete(t_ind, pos_pairs)\n",
    "        neg_pairs = np.random.choice(t_ind, self.num_neg)\n",
    "        \n",
    "        #generate an array of labels.\n",
    "        labels = np.zeros(self.num_pos + self.num_neg)\n",
    "        labels[0:self.num_pos] = 1\n",
    "        return pos_pairs, neg_pairs, labels"
   ]
  },
  {
   "cell_type": "code",
   "execution_count": 18,
   "id": "7e20bbb8-ada3-4a17-9144-e912852517a8",
   "metadata": {},
   "outputs": [],
   "source": [
    "class UserTutorDataset(torch.utils.data.Dataset):\n",
    "    def __init__(self, pos_samples, neg_samples, users, tutors, weights):\n",
    "        '''\n",
    "        pos_samples - The number of positive samples to create per user.\n",
    "        neg_samples - The number of negative samples to create per user.\n",
    "        users - A dataset consisting of users and their attributes(gender, area, timezone, availability times).\n",
    "        tutors - A dataset consisting of tutors and their attributes.\n",
    "        weights - An array-like of weights for each attribute of a user/tutor. This gives us more information on which attributes are more important.\n",
    "        '''\n",
    "        super(UserTutorDataset, self).__init__()\n",
    "        \n",
    "        self.pos_samples = pos_samples\n",
    "        self.neg_samples = neg_samples\n",
    "        self.users = users\n",
    "        self.tutors = tutors\n",
    "        self.weights = weights\n",
    "        \n",
    "        self.create_pairs = find_Positives(self.tutors, self.pos_samples, self.neg_samples, self.weights)\n",
    "        \n",
    "    def __len__(self):\n",
    "        '''\n",
    "        Return the total number of users.\n",
    "        '''\n",
    "        return len(self.users)\n",
    "    \n",
    "    def __getitem__(self, idx):\n",
    "        '''\n",
    "        Return a tensor of positive and negative tutor samples along with a tensor of targets given a user index.\n",
    "        '''\n",
    "        pos_pairs, neg_pairs, labels = self.create_pairs.get_pairs(self.users[idx])\n",
    "        pos_pairs = torch.tensor(pos_pairs)\n",
    "        neg_pairs = torch.tensor(neg_pairs)\n",
    "        total_pairs = torch.cat((pos_pairs, neg_pairs), dim = 0)\n",
    "        labels = torch.tensor(labels)\n",
    "        \n",
    "        #create a tensor of targets(user)\n",
    "        targets = torch.full(total_pairs.shape, idx)\n",
    "        return targets, total_pairs, labels"
   ]
  },
  {
   "cell_type": "code",
   "execution_count": 19,
   "id": "35126028-579b-4a4c-886c-bafa72aebdd4",
   "metadata": {},
   "outputs": [],
   "source": [
    "def visualize_embeddings(embeddings):\n",
    "    '''\n",
    "    Given a learned embedding, display a tsne-visualization of the embeddings.\n",
    "    '''"
   ]
  },
  {
   "cell_type": "code",
   "execution_count": 20,
   "id": "908a0f2c-f77c-4d62-a51e-e6ce890c020a",
   "metadata": {},
   "outputs": [],
   "source": [
    "class MLP(nn.Module):\n",
    "    '''\n",
    "    A multi layer perceptron with one hidden layer and a dropout layer\n",
    "    '''\n",
    "    def __init__(self, in_dim, hidden_dim, out_dim):\n",
    "        super(MLP, self).__init__()\n",
    "        \n",
    "        self.fc1 = nn.Linear(in_dim, hidden_dim)\n",
    "        self.fc2 = nn.Linear(hidden_dim, out_dim)\n",
    "        self.dropout = nn.Dropout(0.12)\n",
    "        \n",
    "    def forward(self, x):\n",
    "        x = self.fc1(x)\n",
    "        x = F.relu(x)\n",
    "        x = self.fc2(x)\n",
    "        x = self.dropout(x)\n",
    "        \n",
    "        return x"
   ]
  },
  {
   "cell_type": "code",
   "execution_count": 21,
   "id": "e70743e6-4927-4bf6-9914-799728ceb52b",
   "metadata": {},
   "outputs": [],
   "source": [
    "class TwoTower(nn.Module):\n",
    "    '''\n",
    "    This class creates and learns an embedding representation for\n",
    "    both tutors and users.\n",
    "    '''\n",
    "    def __init__(self, num_user, user_features, num_tutors, tutor_features, in_dim, hidden_dim, out_dim):\n",
    "        super(TwoTower, self).__init__()\n",
    "        \n",
    "        #initialize the embeddings\n",
    "        self.user_embedding = nn.Embedding(num_user, user_features)\n",
    "        self.tutor_embedding = nn.Embedding(num_tutors, tutor_features)\n",
    "        \n",
    "        #define an mlp, we can optionally feed the embeddings to a mlp first.\n",
    "        self.mlp = MLP(in_dim, hidden_dim, out_dim)\n",
    "        \n",
    "    def forward(self, user_idx, tutor_idx):\n",
    "        \n",
    "        #obtain embeddings of the user and tutor\n",
    "        embed_u = self.user_embedding(user_idx)\n",
    "        embed_t = self.tutor_embedding(tutor_idx)\n",
    "        \n",
    "        #Instead of taking sigmoid here, we can just find the loss with logits, might need to weigh this.\n",
    "        output = torch.sum(embed_u * embed_t, dim = 2)\n",
    "        return output"
   ]
  },
  {
   "cell_type": "markdown",
   "id": "37b0e8c1-e1e8-4a1e-bbcb-ddb9614343a0",
   "metadata": {},
   "source": [
    "Begin the Classification Task to train the embeddings.\n",
    "* All duplicate tutors and users have been removed from their respective dataframes.\n",
    "* We can include the number of times a tutor has helped a student as another feature in the dataframe if necessary."
   ]
  },
  {
   "cell_type": "code",
   "execution_count": 22,
   "id": "15ddb0ec-910b-4ba5-8728-05cae40e8e57",
   "metadata": {},
   "outputs": [],
   "source": [
    "#Set all parameters\n",
    "num_pos_samples = 3\n",
    "num_neg_samples = 12\n",
    "users = final_user.to_numpy()\n",
    "tutors = final_tutor.to_numpy()\n",
    "feat_weights = weights\n",
    "\n",
    "#All users and tutors are unique. Therefore, we can just use the shape.\n",
    "num_users = final_user.shape[0]\n",
    "num_tutors = final_tutor.shape[0]\n",
    "num_user_features = final_user.shape[1]\n",
    "num_tutor_features = final_tutor.shape[1]\n",
    "in_dim = 5\n",
    "hidden_dim = 64\n",
    "out_dim = 15"
   ]
  },
  {
   "cell_type": "code",
   "execution_count": 23,
   "id": "b195eaf1-0a89-42d8-803e-f71703249f6e",
   "metadata": {},
   "outputs": [
    {
     "name": "stdout",
     "output_type": "stream",
     "text": [
      "using device: cuda:0\n"
     ]
    }
   ],
   "source": [
    "#pick the device\n",
    "device = f'cuda:0' if torch.cuda.is_available() else 'cpu'\n",
    "print(f\"using device: {device}\")"
   ]
  },
  {
   "cell_type": "code",
   "execution_count": 24,
   "id": "579806bc-d478-4937-b37f-13942fbe94ec",
   "metadata": {},
   "outputs": [
    {
     "data": {
      "text/plain": [
       "TwoTower(\n",
       "  (user_embedding): Embedding(28785, 5)\n",
       "  (tutor_embedding): Embedding(3607, 5)\n",
       "  (mlp): MLP(\n",
       "    (fc1): Linear(in_features=5, out_features=64, bias=True)\n",
       "    (fc2): Linear(in_features=64, out_features=15, bias=True)\n",
       "    (dropout): Dropout(p=0.12, inplace=False)\n",
       "  )\n",
       ")"
      ]
     },
     "execution_count": 24,
     "metadata": {},
     "output_type": "execute_result"
    }
   ],
   "source": [
    "#Initialize the Model and Optimizer.\n",
    "epochs = 8\n",
    "learning_rate = 0.041\n",
    "batch_size = 64\n",
    "\n",
    "#create the train data and load it into the dataloader\n",
    "train_data = UserTutorDataset(num_pos_samples, num_neg_samples, \n",
    "                              users, tutors, feat_weights)\n",
    "train_loader = du.DataLoader(dataset = train_data, batch_size = batch_size, shuffle = True)\n",
    "\n",
    "model = TwoTower(num_users, num_user_features, num_tutors, \n",
    "                 num_tutor_features, in_dim, hidden_dim, out_dim)\n",
    "optimizer = optim.Adam(model.parameters(), lr = learning_rate)\n",
    "\n",
    "#send the model to the device and set the mode to train.\n",
    "model = model.to(device)\n",
    "model.train()"
   ]
  },
  {
   "cell_type": "code",
   "execution_count": 25,
   "id": "7deab0e0-77d0-40ba-8b48-0798bc3fdc33",
   "metadata": {},
   "outputs": [
    {
     "name": "stderr",
     "output_type": "stream",
     "text": [
      "100%|██████████| 450/450 [11:51<00:00,  1.58s/it]\n"
     ]
    },
    {
     "name": "stdout",
     "output_type": "stream",
     "text": [
      "Epoch: 1/8, Loss: 0.056711\n"
     ]
    },
    {
     "name": "stderr",
     "output_type": "stream",
     "text": [
      "100%|██████████| 450/450 [11:51<00:00,  1.58s/it]\n"
     ]
    },
    {
     "name": "stdout",
     "output_type": "stream",
     "text": [
      "Epoch: 2/8, Loss: 0.049133\n"
     ]
    },
    {
     "name": "stderr",
     "output_type": "stream",
     "text": [
      "100%|██████████| 450/450 [11:52<00:00,  1.58s/it]\n"
     ]
    },
    {
     "name": "stdout",
     "output_type": "stream",
     "text": [
      "Epoch: 3/8, Loss: 0.040236\n"
     ]
    },
    {
     "name": "stderr",
     "output_type": "stream",
     "text": [
      "100%|██████████| 450/450 [11:52<00:00,  1.58s/it]\n"
     ]
    },
    {
     "name": "stdout",
     "output_type": "stream",
     "text": [
      "Epoch: 4/8, Loss: 0.012574\n"
     ]
    },
    {
     "name": "stderr",
     "output_type": "stream",
     "text": [
      "100%|██████████| 450/450 [11:52<00:00,  1.58s/it]\n"
     ]
    },
    {
     "name": "stdout",
     "output_type": "stream",
     "text": [
      "Epoch: 5/8, Loss: 0.009024\n"
     ]
    },
    {
     "name": "stderr",
     "output_type": "stream",
     "text": [
      "100%|██████████| 450/450 [11:52<00:00,  1.58s/it]\n"
     ]
    },
    {
     "name": "stdout",
     "output_type": "stream",
     "text": [
      "Epoch: 6/8, Loss: 0.007635\n"
     ]
    },
    {
     "name": "stderr",
     "output_type": "stream",
     "text": [
      "100%|██████████| 450/450 [11:52<00:00,  1.58s/it]\n"
     ]
    },
    {
     "name": "stdout",
     "output_type": "stream",
     "text": [
      "Epoch: 7/8, Loss: 0.006647\n"
     ]
    },
    {
     "name": "stderr",
     "output_type": "stream",
     "text": [
      "100%|██████████| 450/450 [11:52<00:00,  1.58s/it]"
     ]
    },
    {
     "name": "stdout",
     "output_type": "stream",
     "text": [
      "Epoch: 8/8, Loss: 0.006134\n"
     ]
    },
    {
     "name": "stderr",
     "output_type": "stream",
     "text": [
      "\n"
     ]
    }
   ],
   "source": [
    "#define the loss function\n",
    "loss_func = nn.BCEWithLogitsLoss()\n",
    "\n",
    "#train the model and learn the embeddings\n",
    "for epoch in range(1, epochs+1):\n",
    "    sum_loss = 0.\n",
    "    for batch_idx, (targets, total_pairs, labels) in enumerate(tqdm(train_loader)):\n",
    "        targets, total_pairs, labels = targets.to(device), total_pairs.to(device), labels.to(device)\n",
    "        \n",
    "        #zero out prevous gradients\n",
    "        model.zero_grad()\n",
    "        \n",
    "        #predict with the model\n",
    "        prediction = model(targets, total_pairs)\n",
    "\n",
    "        #calculate loss\n",
    "        loss = loss_func(prediction, labels.float())\n",
    "        sum_loss += loss.item()\n",
    "        \n",
    "        #backpropagate and step.\n",
    "        loss.backward()\n",
    "        optimizer.step()\n",
    "    \n",
    "    \n",
    "    sum_loss /= (len(train_loader)*15) #Divide by the total number of samples.\n",
    "    print(f\"Epoch: {epoch}/{epochs}, Loss: {sum_loss:.6f}\")"
   ]
  },
  {
   "cell_type": "code",
   "execution_count": 26,
   "id": "46da1d1c-6077-44d7-be72-1558de776bfe",
   "metadata": {},
   "outputs": [],
   "source": [
    "#TODO: create a word2vec embedding of each user's list of tutors and concatenate it to the learned embeddings\n",
    "#and learn both ambeddings together in a two tower model.\n",
    "#Also convert the dataset to an iterable dataset and pass in blocks.\n",
    "#Refactor code to increase training speed."
   ]
  },
  {
   "cell_type": "code",
   "execution_count": 27,
   "id": "9039d55b-e31a-4667-8898-db71a4c632f1",
   "metadata": {},
   "outputs": [
    {
     "ename": "IndentationError",
     "evalue": "expected an indented block (4042133448.py, line 22)",
     "output_type": "error",
     "traceback": [
      "\u001b[0;36m  File \u001b[0;32m\"/tmp/ipykernel_9915/4042133448.py\"\u001b[0;36m, line \u001b[0;32m22\u001b[0m\n\u001b[0;31m    def __len__(self):\u001b[0m\n\u001b[0m    ^\u001b[0m\n\u001b[0;31mIndentationError\u001b[0m\u001b[0;31m:\u001b[0m expected an indented block\n"
     ]
    }
   ],
   "source": [
    "#Iterable Dataset for Generating positive and negative pairs in batches\n",
    "class tutor2Vec(torch.utils.data.IterableDataset):\n",
    "    def __init__(self, pos_samples, neg_samples, users, block_size, workers, weights):\n",
    "        '''\n",
    "        pos_samples - The number of positive samples to create per user\n",
    "        neg_samples - The number of negative samples to create per user\n",
    "        users - A dataset consisting of users and their attributes(gender, area, timezone, availability times)\n",
    "        block_size - The size of each block to be yielded to the dataloader(total positive and neg samples in a block)\n",
    "        workers - The number of workers to use while creating blocks.\n",
    "        '''\n",
    "        super(self, tutor2Vec).__init__()\n",
    "        \n",
    "        self.pos_samples = pos_samples\n",
    "        self.neg_samples = neg_samples\n",
    "        self.users = users\n",
    "        self.block_size = block_size\n",
    "        self.workers = (abs(workers) + workers)/2 #sets num workers to 1 if negative.\n",
    "    \n",
    "    def generate_block(self):\n",
    "        \n",
    "    \n",
    "    def __len__(self):\n",
    "        '''\n",
    "        return the approximate number of pairs per block.\n",
    "        '''\n",
    "        total_pairs = len(self.users)*18\n",
    "        pairs_per_block = total_pairs/self.block_size\n",
    "        return pairs_per_block\n",
    "        \n",
    "    def __iter__(self):\n",
    "        '''\n",
    "        Return positive and negative pairs for one user in the dataset from the block.\n",
    "        '''\n",
    "        current_worker = worker.get_worker_info()\n",
    "        if worker is None:\n",
    "            worker_id = 0\n",
    "            num_workers = 1\n",
    "        else:\n",
    "            worker_id = current_worked.id\n",
    "            num_workers = current_worker.num_workers"
   ]
  },
  {
   "cell_type": "code",
   "execution_count": null,
   "id": "7932abf5-2ee5-4bdf-800e-cedd7ea3d650",
   "metadata": {},
   "outputs": [],
   "source": []
  }
 ],
 "metadata": {
  "kernelspec": {
   "display_name": "default:Python",
   "language": "python",
   "name": "conda-env-default-py"
  },
  "language_info": {
   "codemirror_mode": {
    "name": "ipython",
    "version": 3
   },
   "file_extension": ".py",
   "mimetype": "text/x-python",
   "name": "python",
   "nbconvert_exporter": "python",
   "pygments_lexer": "ipython3",
   "version": "3.9.10"
  }
 },
 "nbformat": 4,
 "nbformat_minor": 5
}
