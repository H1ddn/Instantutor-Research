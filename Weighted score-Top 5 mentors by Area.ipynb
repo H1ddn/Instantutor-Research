{
 "cells": [
  {
   "cell_type": "code",
   "execution_count": 1,
   "metadata": {},
   "outputs": [
    {
     "data": {
      "text/html": [
       "<div>\n",
       "<style scoped>\n",
       "    .dataframe tbody tr th:only-of-type {\n",
       "        vertical-align: middle;\n",
       "    }\n",
       "\n",
       "    .dataframe tbody tr th {\n",
       "        vertical-align: top;\n",
       "    }\n",
       "\n",
       "    .dataframe thead th {\n",
       "        text-align: right;\n",
       "    }\n",
       "</style>\n",
       "<table border=\"1\" class=\"dataframe\">\n",
       "  <thead>\n",
       "    <tr style=\"text-align: right;\">\n",
       "      <th></th>\n",
       "      <th>id_student</th>\n",
       "      <th>gender</th>\n",
       "      <th>Category(Mentor/Mentee/Both)</th>\n",
       "      <th>Area</th>\n",
       "      <th>Degree</th>\n",
       "      <th>Course</th>\n",
       "      <th>Time zone</th>\n",
       "      <th>Availability time start</th>\n",
       "      <th>Availability time end</th>\n",
       "    </tr>\n",
       "  </thead>\n",
       "  <tbody>\n",
       "    <tr>\n",
       "      <th>0</th>\n",
       "      <td>11391</td>\n",
       "      <td>M</td>\n",
       "      <td>1</td>\n",
       "      <td>IT</td>\n",
       "      <td>Undergraduate</td>\n",
       "      <td>NaN</td>\n",
       "      <td>Asia</td>\n",
       "      <td>9:00</td>\n",
       "      <td>14:00</td>\n",
       "    </tr>\n",
       "    <tr>\n",
       "      <th>1</th>\n",
       "      <td>28400</td>\n",
       "      <td>F</td>\n",
       "      <td>3</td>\n",
       "      <td>IT</td>\n",
       "      <td>Graduate</td>\n",
       "      <td>NaN</td>\n",
       "      <td>Pacific</td>\n",
       "      <td>16:00</td>\n",
       "      <td>18:00</td>\n",
       "    </tr>\n",
       "    <tr>\n",
       "      <th>2</th>\n",
       "      <td>30268</td>\n",
       "      <td>F</td>\n",
       "      <td>2</td>\n",
       "      <td>IT</td>\n",
       "      <td>PhD</td>\n",
       "      <td>NaN</td>\n",
       "      <td>Europe</td>\n",
       "      <td>12:00</td>\n",
       "      <td>15:00</td>\n",
       "    </tr>\n",
       "  </tbody>\n",
       "</table>\n",
       "</div>"
      ],
      "text/plain": [
       "   id_student gender  Category(Mentor/Mentee/Both) Area         Degree  \\\n",
       "0       11391      M                             1   IT  Undergraduate   \n",
       "1       28400      F                             3   IT       Graduate   \n",
       "2       30268      F                             2   IT            PhD   \n",
       "\n",
       "   Course Time zone Availability time start Availability time end  \n",
       "0     NaN      Asia                    9:00                 14:00  \n",
       "1     NaN   Pacific                   16:00                 18:00  \n",
       "2     NaN    Europe                   12:00                 15:00  "
      ]
     },
     "execution_count": 1,
     "metadata": {},
     "output_type": "execute_result"
    }
   ],
   "source": [
    "# This system generates a weighted score for each mentor base on the average and number of ratings.\n",
    "# The final output is a weighted score for each mentor along with the Area.\n",
    "# Therfore, a mentee looking for a mentor in Math, will be recommended the mentors with Top-k scores in Math.\n",
    "# Weighted score formula used: (v/(v+m) * R) + (m/(m+v) * C)\n",
    "# v is the number of ratings for a mentor, m is the minimum ratings required to be recommended (used 75 percentile),\n",
    "# R is the average rating for the mentor, C is the mean rating across the whole dataset.\n",
    "\n",
    "import pandas as pd\n",
    "import numpy as np\n",
    "import matplotlib.pyplot as plt\n",
    "import seaborn as sns\n",
    "sns.set_style('white')\n",
    "\n",
    "student = pd.read_csv('E:\\Lab\\Instantutor-Research\\Datasets\\Data.csv',error_bad_lines=False)\n",
    "rating = pd.read_csv('E:\\Lab\\Instantutor-Research\\Datasets\\Rating.csv',error_bad_lines=False)\n",
    "student.head(3)\n"
   ]
  },
  {
   "cell_type": "code",
   "execution_count": 2,
   "metadata": {},
   "outputs": [
    {
     "data": {
      "text/html": [
       "<div>\n",
       "<style scoped>\n",
       "    .dataframe tbody tr th:only-of-type {\n",
       "        vertical-align: middle;\n",
       "    }\n",
       "\n",
       "    .dataframe tbody tr th {\n",
       "        vertical-align: top;\n",
       "    }\n",
       "\n",
       "    .dataframe thead th {\n",
       "        text-align: right;\n",
       "    }\n",
       "</style>\n",
       "<table border=\"1\" class=\"dataframe\">\n",
       "  <thead>\n",
       "    <tr style=\"text-align: right;\">\n",
       "      <th></th>\n",
       "      <th>Mentor</th>\n",
       "      <th>Mentee</th>\n",
       "      <th>Rating</th>\n",
       "      <th>Comments</th>\n",
       "      <th>Time stamp</th>\n",
       "    </tr>\n",
       "  </thead>\n",
       "  <tbody>\n",
       "    <tr>\n",
       "      <th>count</th>\n",
       "      <td>3.999000e+03</td>\n",
       "      <td>0.0</td>\n",
       "      <td>3999.000000</td>\n",
       "      <td>0.0</td>\n",
       "      <td>3.999000e+03</td>\n",
       "    </tr>\n",
       "    <tr>\n",
       "      <th>mean</th>\n",
       "      <td>7.201465e+05</td>\n",
       "      <td>NaN</td>\n",
       "      <td>3.644286</td>\n",
       "      <td>NaN</td>\n",
       "      <td>1.188795e+09</td>\n",
       "    </tr>\n",
       "    <tr>\n",
       "      <th>std</th>\n",
       "      <td>5.623939e+05</td>\n",
       "      <td>NaN</td>\n",
       "      <td>0.999781</td>\n",
       "      <td>NaN</td>\n",
       "      <td>2.106722e+08</td>\n",
       "    </tr>\n",
       "    <tr>\n",
       "      <th>min</th>\n",
       "      <td>2.562900e+04</td>\n",
       "      <td>NaN</td>\n",
       "      <td>0.500000</td>\n",
       "      <td>NaN</td>\n",
       "      <td>8.347537e+08</td>\n",
       "    </tr>\n",
       "    <tr>\n",
       "      <th>25%</th>\n",
       "      <td>5.088070e+05</td>\n",
       "      <td>NaN</td>\n",
       "      <td>3.000000</td>\n",
       "      <td>NaN</td>\n",
       "      <td>9.799716e+08</td>\n",
       "    </tr>\n",
       "    <tr>\n",
       "      <th>50%</th>\n",
       "      <td>5.921580e+05</td>\n",
       "      <td>NaN</td>\n",
       "      <td>4.000000</td>\n",
       "      <td>NaN</td>\n",
       "      <td>1.179200e+09</td>\n",
       "    </tr>\n",
       "    <tr>\n",
       "      <th>75%</th>\n",
       "      <td>6.470485e+05</td>\n",
       "      <td>NaN</td>\n",
       "      <td>4.500000</td>\n",
       "      <td>NaN</td>\n",
       "      <td>1.392410e+09</td>\n",
       "    </tr>\n",
       "    <tr>\n",
       "      <th>max</th>\n",
       "      <td>2.710343e+06</td>\n",
       "      <td>NaN</td>\n",
       "      <td>5.000000</td>\n",
       "      <td>NaN</td>\n",
       "      <td>1.498765e+09</td>\n",
       "    </tr>\n",
       "  </tbody>\n",
       "</table>\n",
       "</div>"
      ],
      "text/plain": [
       "             Mentor  Mentee       Rating  Comments    Time stamp\n",
       "count  3.999000e+03     0.0  3999.000000       0.0  3.999000e+03\n",
       "mean   7.201465e+05     NaN     3.644286       NaN  1.188795e+09\n",
       "std    5.623939e+05     NaN     0.999781       NaN  2.106722e+08\n",
       "min    2.562900e+04     NaN     0.500000       NaN  8.347537e+08\n",
       "25%    5.088070e+05     NaN     3.000000       NaN  9.799716e+08\n",
       "50%    5.921580e+05     NaN     4.000000       NaN  1.179200e+09\n",
       "75%    6.470485e+05     NaN     4.500000       NaN  1.392410e+09\n",
       "max    2.710343e+06     NaN     5.000000       NaN  1.498765e+09"
      ]
     },
     "execution_count": 2,
     "metadata": {},
     "output_type": "execute_result"
    }
   ],
   "source": [
    "rating.describe()"
   ]
  },
  {
   "cell_type": "code",
   "execution_count": 3,
   "metadata": {},
   "outputs": [
    {
     "name": "stdout",
     "output_type": "stream",
     "text": [
      "   Mentor  count  mean Area\n",
      "0   25629      1  3.50   IT\n",
      "1   26192      2  3.75   IT\n",
      "2   28061      1  4.00   IT\n",
      "3   28787      1  2.00   IT\n",
      "4   29639      1  2.00   IT\n"
     ]
    }
   ],
   "source": [
    "rating_agg = rating.groupby('Mentor').Rating.agg(['count','mean']).reset_index()\n",
    "#Rename columns\n",
    "rating_agg = rating_agg.join(student['Area'])\n",
    "\n",
    "print(rating_agg.head(5))"
   ]
  },
  {
   "cell_type": "code",
   "execution_count": 4,
   "metadata": {},
   "outputs": [
    {
     "data": {
      "text/plain": [
       "<AxesSubplot:>"
      ]
     },
     "execution_count": 4,
     "metadata": {},
     "output_type": "execute_result"
    },
    {
     "data": {
      "image/png": "[encoded data removed]",
      "text/plain": [
       "<Figure size 720x288 with 1 Axes>"
      ]
     },
     "metadata": {},
     "output_type": "display_data"
    }
   ],
   "source": [
    "plt.figure(figsize=(10,4))\n",
    "rating_agg['mean'].hist(bins=5)"
   ]
  },
  {
   "cell_type": "code",
   "execution_count": 5,
   "metadata": {},
   "outputs": [
    {
     "name": "stdout",
     "output_type": "stream",
     "text": [
      "1.0\n"
     ]
    }
   ],
   "source": [
    "# m is the minimum ratings required to be recommended (used 75 percentile)\n",
    "m = rating_agg['count'].quantile(0.75)\n",
    "print(m)"
   ]
  },
  {
   "cell_type": "code",
   "execution_count": 6,
   "metadata": {},
   "outputs": [
    {
     "name": "stdout",
     "output_type": "stream",
     "text": [
      "3.6442860715178793\n"
     ]
    }
   ],
   "source": [
    "# C is the mean rating across the whole dataset\n",
    "C = rating['Rating'].mean()\n",
    "print(C)\n"
   ]
  },
  {
   "cell_type": "code",
   "execution_count": 7,
   "metadata": {},
   "outputs": [],
   "source": [
    "def weighted_rating(x, m=m, C=C):\n",
    "    v = x['count']\n",
    "    R = x['mean']\n",
    "    return (v/(v+m) * R) + (m/(m+v) * C) "
   ]
  },
  {
   "cell_type": "code",
   "execution_count": 8,
   "metadata": {},
   "outputs": [],
   "source": [
    "# Define a new feature 'score' and calculate its value with `weighted_rating()`\n",
    "rating_agg['score'] = rating_agg.apply(weighted_rating, axis=1)"
   ]
  },
  {
   "cell_type": "code",
   "execution_count": 12,
   "metadata": {},
   "outputs": [
    {
     "data": {
      "text/html": [
       "<div>\n",
       "<style scoped>\n",
       "    .dataframe tbody tr th:only-of-type {\n",
       "        vertical-align: middle;\n",
       "    }\n",
       "\n",
       "    .dataframe tbody tr th {\n",
       "        vertical-align: top;\n",
       "    }\n",
       "\n",
       "    .dataframe thead th {\n",
       "        text-align: right;\n",
       "    }\n",
       "</style>\n",
       "<table border=\"1\" class=\"dataframe\">\n",
       "  <thead>\n",
       "    <tr style=\"text-align: right;\">\n",
       "      <th></th>\n",
       "      <th>Mentor</th>\n",
       "      <th>Rating_Count</th>\n",
       "      <th>Mean_Rating</th>\n",
       "      <th>Area</th>\n",
       "      <th>score</th>\n",
       "    </tr>\n",
       "  </thead>\n",
       "  <tbody>\n",
       "    <tr>\n",
       "      <th>2891</th>\n",
       "      <td>675728</td>\n",
       "      <td>3</td>\n",
       "      <td>5.0</td>\n",
       "      <td>Math</td>\n",
       "      <td>4.661072</td>\n",
       "    </tr>\n",
       "    <tr>\n",
       "      <th>751</th>\n",
       "      <td>483997</td>\n",
       "      <td>2</td>\n",
       "      <td>5.0</td>\n",
       "      <td>English</td>\n",
       "      <td>4.548095</td>\n",
       "    </tr>\n",
       "    <tr>\n",
       "      <th>3572</th>\n",
       "      <td>2635505</td>\n",
       "      <td>2</td>\n",
       "      <td>5.0</td>\n",
       "      <td>Physics</td>\n",
       "      <td>4.548095</td>\n",
       "    </tr>\n",
       "    <tr>\n",
       "      <th>76</th>\n",
       "      <td>117544</td>\n",
       "      <td>2</td>\n",
       "      <td>5.0</td>\n",
       "      <td>IT</td>\n",
       "      <td>4.548095</td>\n",
       "    </tr>\n",
       "    <tr>\n",
       "      <th>3596</th>\n",
       "      <td>2684107</td>\n",
       "      <td>2</td>\n",
       "      <td>5.0</td>\n",
       "      <td>Computer Science</td>\n",
       "      <td>4.548095</td>\n",
       "    </tr>\n",
       "  </tbody>\n",
       "</table>\n",
       "</div>"
      ],
      "text/plain": [
       "       Mentor  Rating_Count  Mean_Rating              Area     score\n",
       "2891   675728             3          5.0              Math  4.661072\n",
       "751    483997             2          5.0           English  4.548095\n",
       "3572  2635505             2          5.0           Physics  4.548095\n",
       "76     117544             2          5.0                IT  4.548095\n",
       "3596  2684107             2          5.0  Computer Science  4.548095"
      ]
     },
     "execution_count": 12,
     "metadata": {},
     "output_type": "execute_result"
    }
   ],
   "source": [
    "rating_agg = rating_agg.sort_values('score', ascending=False)\n",
    "rating_agg.rename(columns={'count':'Rating_Count','mean':'Mean_Rating'},inplace = True)\n",
    "rating_agg.head(5)"
   ]
  },
  {
   "cell_type": "code",
   "execution_count": 13,
   "metadata": {},
   "outputs": [
    {
     "data": {
      "text/html": [
       "<div>\n",
       "<style scoped>\n",
       "    .dataframe tbody tr th:only-of-type {\n",
       "        vertical-align: middle;\n",
       "    }\n",
       "\n",
       "    .dataframe tbody tr th {\n",
       "        vertical-align: top;\n",
       "    }\n",
       "\n",
       "    .dataframe thead th {\n",
       "        text-align: right;\n",
       "    }\n",
       "</style>\n",
       "<table border=\"1\" class=\"dataframe\">\n",
       "  <thead>\n",
       "    <tr style=\"text-align: right;\">\n",
       "      <th></th>\n",
       "      <th>Mentor</th>\n",
       "      <th>Rating_Count</th>\n",
       "      <th>Mean_Rating</th>\n",
       "      <th>Area</th>\n",
       "      <th>score</th>\n",
       "    </tr>\n",
       "  </thead>\n",
       "  <tbody>\n",
       "    <tr>\n",
       "      <th>2891</th>\n",
       "      <td>675728</td>\n",
       "      <td>3</td>\n",
       "      <td>5.000000</td>\n",
       "      <td>Math</td>\n",
       "      <td>4.661072</td>\n",
       "    </tr>\n",
       "    <tr>\n",
       "      <th>3519</th>\n",
       "      <td>2554973</td>\n",
       "      <td>3</td>\n",
       "      <td>4.666667</td>\n",
       "      <td>Math</td>\n",
       "      <td>4.411072</td>\n",
       "    </tr>\n",
       "    <tr>\n",
       "      <th>1297</th>\n",
       "      <td>555228</td>\n",
       "      <td>2</td>\n",
       "      <td>4.750000</td>\n",
       "      <td>Math</td>\n",
       "      <td>4.381429</td>\n",
       "    </tr>\n",
       "    <tr>\n",
       "      <th>2839</th>\n",
       "      <td>656009</td>\n",
       "      <td>2</td>\n",
       "      <td>4.750000</td>\n",
       "      <td>Math</td>\n",
       "      <td>4.381429</td>\n",
       "    </tr>\n",
       "    <tr>\n",
       "      <th>2726</th>\n",
       "      <td>648966</td>\n",
       "      <td>2</td>\n",
       "      <td>4.750000</td>\n",
       "      <td>Math</td>\n",
       "      <td>4.381429</td>\n",
       "    </tr>\n",
       "  </tbody>\n",
       "</table>\n",
       "</div>"
      ],
      "text/plain": [
       "       Mentor  Rating_Count  Mean_Rating  Area     score\n",
       "2891   675728             3     5.000000  Math  4.661072\n",
       "3519  2554973             3     4.666667  Math  4.411072\n",
       "1297   555228             2     4.750000  Math  4.381429\n",
       "2839   656009             2     4.750000  Math  4.381429\n",
       "2726   648966             2     4.750000  Math  4.381429"
      ]
     },
     "execution_count": 13,
     "metadata": {},
     "output_type": "execute_result"
    }
   ],
   "source": [
    "# Finding top-5 mentors in Math\n",
    "rating_agg.loc[rating_agg['Area'] == \"Math\"].head(5)"
   ]
  },
  {
   "cell_type": "code",
   "execution_count": null,
   "metadata": {},
   "outputs": [],
   "source": []
  }
 ],
 "metadata": {
  "kernelspec": {
   "display_name": "Python 3",
   "language": "python",
   "name": "python3"
  },
  "language_info": {
   "codemirror_mode": {
    "name": "ipython",
    "version": 3
   },
   "file_extension": ".py",
   "mimetype": "text/x-python",
   "name": "python",
   "nbconvert_exporter": "python",
   "pygments_lexer": "ipython3",
   "version": "3.8.5"
  }
 },
 "nbformat": 4,
 "nbformat_minor": 4
}
