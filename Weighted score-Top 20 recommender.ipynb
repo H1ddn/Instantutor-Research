{
 "cells": [
  {
   "cell_type": "code",
   "execution_count": 20,
   "metadata": {},
   "outputs": [
    {
     "data": {
      "text/html": [
       "<div>\n",
       "<style scoped>\n",
       "    .dataframe tbody tr th:only-of-type {\n",
       "        vertical-align: middle;\n",
       "    }\n",
       "\n",
       "    .dataframe tbody tr th {\n",
       "        vertical-align: top;\n",
       "    }\n",
       "\n",
       "    .dataframe thead th {\n",
       "        text-align: right;\n",
       "    }\n",
       "</style>\n",
       "<table border=\"1\" class=\"dataframe\">\n",
       "  <thead>\n",
       "    <tr style=\"text-align: right;\">\n",
       "      <th></th>\n",
       "      <th>Mentor</th>\n",
       "      <th>Mentee</th>\n",
       "      <th>Rating</th>\n",
       "      <th>Comments</th>\n",
       "      <th>Time stamp</th>\n",
       "    </tr>\n",
       "  </thead>\n",
       "  <tbody>\n",
       "    <tr>\n",
       "      <th>0</th>\n",
       "      <td>366449</td>\n",
       "      <td>NaN</td>\n",
       "      <td>1.0</td>\n",
       "      <td>NaN</td>\n",
       "      <td>1425941529</td>\n",
       "    </tr>\n",
       "    <tr>\n",
       "      <th>1</th>\n",
       "      <td>1677677</td>\n",
       "      <td>NaN</td>\n",
       "      <td>4.5</td>\n",
       "      <td>NaN</td>\n",
       "      <td>1425942435</td>\n",
       "    </tr>\n",
       "    <tr>\n",
       "      <th>2</th>\n",
       "      <td>553755</td>\n",
       "      <td>NaN</td>\n",
       "      <td>5.0</td>\n",
       "      <td>NaN</td>\n",
       "      <td>1425941523</td>\n",
       "    </tr>\n",
       "  </tbody>\n",
       "</table>\n",
       "</div>"
      ],
      "text/plain": [
       "    Mentor  Mentee  Rating  Comments  Time stamp\n",
       "0   366449     NaN     1.0       NaN  1425941529\n",
       "1  1677677     NaN     4.5       NaN  1425942435\n",
       "2   553755     NaN     5.0       NaN  1425941523"
      ]
     },
     "execution_count": 20,
     "metadata": {},
     "output_type": "execute_result"
    }
   ],
   "source": [
    "import pandas as pd\n",
    "import numpy as np\n",
    "\n",
    "student = pd.read_csv('E:\\Lab\\Instantutor-Research\\Datasets\\Data.csv',error_bad_lines=False)\n",
    "rating = pd.read_csv('E:\\Lab\\Instantutor-Research\\Datasets\\Rating.csv',error_bad_lines=False)\n",
    "student.head(3)\n",
    "rating.head(3)\n"
   ]
  },
  {
   "cell_type": "code",
   "execution_count": 21,
   "metadata": {},
   "outputs": [
    {
     "name": "stdout",
     "output_type": "stream",
     "text": [
      "3.6442860715178793\n"
     ]
    }
   ],
   "source": []
  },
  {
   "cell_type": "code",
   "execution_count": 23,
   "metadata": {},
   "outputs": [
    {
     "data": {
      "text/html": [
       "<div>\n",
       "<style scoped>\n",
       "    .dataframe tbody tr th:only-of-type {\n",
       "        vertical-align: middle;\n",
       "    }\n",
       "\n",
       "    .dataframe tbody tr th {\n",
       "        vertical-align: top;\n",
       "    }\n",
       "\n",
       "    .dataframe thead th {\n",
       "        text-align: right;\n",
       "    }\n",
       "</style>\n",
       "<table border=\"1\" class=\"dataframe\">\n",
       "  <thead>\n",
       "    <tr style=\"text-align: right;\">\n",
       "      <th></th>\n",
       "      <th>Mentor</th>\n",
       "      <th>Mentee</th>\n",
       "      <th>Rating</th>\n",
       "      <th>Comments</th>\n",
       "      <th>Time stamp</th>\n",
       "    </tr>\n",
       "  </thead>\n",
       "  <tbody>\n",
       "    <tr>\n",
       "      <th>count</th>\n",
       "      <td>3.999000e+03</td>\n",
       "      <td>0.0</td>\n",
       "      <td>3999.000000</td>\n",
       "      <td>0.0</td>\n",
       "      <td>3.999000e+03</td>\n",
       "    </tr>\n",
       "    <tr>\n",
       "      <th>mean</th>\n",
       "      <td>7.201465e+05</td>\n",
       "      <td>NaN</td>\n",
       "      <td>3.644286</td>\n",
       "      <td>NaN</td>\n",
       "      <td>1.188795e+09</td>\n",
       "    </tr>\n",
       "    <tr>\n",
       "      <th>std</th>\n",
       "      <td>5.623939e+05</td>\n",
       "      <td>NaN</td>\n",
       "      <td>0.999781</td>\n",
       "      <td>NaN</td>\n",
       "      <td>2.106722e+08</td>\n",
       "    </tr>\n",
       "    <tr>\n",
       "      <th>min</th>\n",
       "      <td>2.562900e+04</td>\n",
       "      <td>NaN</td>\n",
       "      <td>0.500000</td>\n",
       "      <td>NaN</td>\n",
       "      <td>8.347537e+08</td>\n",
       "    </tr>\n",
       "    <tr>\n",
       "      <th>25%</th>\n",
       "      <td>5.088070e+05</td>\n",
       "      <td>NaN</td>\n",
       "      <td>3.000000</td>\n",
       "      <td>NaN</td>\n",
       "      <td>9.799716e+08</td>\n",
       "    </tr>\n",
       "    <tr>\n",
       "      <th>50%</th>\n",
       "      <td>5.921580e+05</td>\n",
       "      <td>NaN</td>\n",
       "      <td>4.000000</td>\n",
       "      <td>NaN</td>\n",
       "      <td>1.179200e+09</td>\n",
       "    </tr>\n",
       "    <tr>\n",
       "      <th>75%</th>\n",
       "      <td>6.470485e+05</td>\n",
       "      <td>NaN</td>\n",
       "      <td>4.500000</td>\n",
       "      <td>NaN</td>\n",
       "      <td>1.392410e+09</td>\n",
       "    </tr>\n",
       "    <tr>\n",
       "      <th>max</th>\n",
       "      <td>2.710343e+06</td>\n",
       "      <td>NaN</td>\n",
       "      <td>5.000000</td>\n",
       "      <td>NaN</td>\n",
       "      <td>1.498765e+09</td>\n",
       "    </tr>\n",
       "  </tbody>\n",
       "</table>\n",
       "</div>"
      ],
      "text/plain": [
       "             Mentor  Mentee       Rating  Comments    Time stamp\n",
       "count  3.999000e+03     0.0  3999.000000       0.0  3.999000e+03\n",
       "mean   7.201465e+05     NaN     3.644286       NaN  1.188795e+09\n",
       "std    5.623939e+05     NaN     0.999781       NaN  2.106722e+08\n",
       "min    2.562900e+04     NaN     0.500000       NaN  8.347537e+08\n",
       "25%    5.088070e+05     NaN     3.000000       NaN  9.799716e+08\n",
       "50%    5.921580e+05     NaN     4.000000       NaN  1.179200e+09\n",
       "75%    6.470485e+05     NaN     4.500000       NaN  1.392410e+09\n",
       "max    2.710343e+06     NaN     5.000000       NaN  1.498765e+09"
      ]
     },
     "execution_count": 23,
     "metadata": {},
     "output_type": "execute_result"
    }
   ],
   "source": [
    "rating.describe()"
   ]
  },
  {
   "cell_type": "code",
   "execution_count": 24,
   "metadata": {},
   "outputs": [
    {
     "name": "stdout",
     "output_type": "stream",
     "text": [
      "4.5\n"
     ]
    }
   ],
   "source": []
  },
  {
   "cell_type": "code",
   "execution_count": 32,
   "metadata": {},
   "outputs": [
    {
     "name": "stdout",
     "output_type": "stream",
     "text": [
      "   Mentor  count  mean\n",
      "0   25629      1  3.50\n",
      "1   26192      2  3.75\n",
      "2   28061      1  4.00\n",
      "3   28787      1  2.00\n",
      "4   29639      1  2.00\n"
     ]
    }
   ],
   "source": [
    "rating_agg = rating.groupby('Mentor').Rating.agg(['count','mean']).reset_index()\n",
    "#Rename columns\n",
    "rating_agg.rename(columns={'count':'COUNT','mean':'AVG_RATING'})\n",
    "\n",
    "print(rating_agg.head(5))"
   ]
  },
  {
   "cell_type": "code",
   "execution_count": 34,
   "metadata": {},
   "outputs": [
    {
     "name": "stdout",
     "output_type": "stream",
     "text": [
      "1.0\n"
     ]
    }
   ],
   "source": [
    "m = rating_agg['count'].quantile(0.75)\n",
    "print(m)"
   ]
  },
  {
   "cell_type": "code",
   "execution_count": 35,
   "metadata": {},
   "outputs": [
    {
     "name": "stdout",
     "output_type": "stream",
     "text": [
      "3.6442860715178793\n"
     ]
    }
   ],
   "source": [
    "C = rating['Rating'].mean()\n",
    "print(C)\n"
   ]
  },
  {
   "cell_type": "code",
   "execution_count": 37,
   "metadata": {},
   "outputs": [],
   "source": [
    "def weighted_rating(x, m=m, C=C):\n",
    "    v = x['count']\n",
    "    R = x['mean']\n",
    "    # Calculation based on the IMDB formula\n",
    "    return (v/(v+m) * R) + (m/(m+v) * C) "
   ]
  },
  {
   "cell_type": "code",
   "execution_count": 38,
   "metadata": {},
   "outputs": [],
   "source": [
    "# Define a new feature 'score' and calculate its value with `weighted_rating()`\n",
    "rating_agg['score'] = rating_agg.apply(weighted_rating, axis=1)"
   ]
  },
  {
   "cell_type": "code",
   "execution_count": 40,
   "metadata": {},
   "outputs": [],
   "source": [
    "rating_agg = rating_agg.sort_values('score', ascending=False)"
   ]
  },
  {
   "cell_type": "code",
   "execution_count": 41,
   "metadata": {},
   "outputs": [
    {
     "data": {
      "text/html": [
       "<div>\n",
       "<style scoped>\n",
       "    .dataframe tbody tr th:only-of-type {\n",
       "        vertical-align: middle;\n",
       "    }\n",
       "\n",
       "    .dataframe tbody tr th {\n",
       "        vertical-align: top;\n",
       "    }\n",
       "\n",
       "    .dataframe thead th {\n",
       "        text-align: right;\n",
       "    }\n",
       "</style>\n",
       "<table border=\"1\" class=\"dataframe\">\n",
       "  <thead>\n",
       "    <tr style=\"text-align: right;\">\n",
       "      <th></th>\n",
       "      <th>Mentor</th>\n",
       "      <th>count</th>\n",
       "      <th>mean</th>\n",
       "      <th>score</th>\n",
       "    </tr>\n",
       "  </thead>\n",
       "  <tbody>\n",
       "    <tr>\n",
       "      <th>2891</th>\n",
       "      <td>675728</td>\n",
       "      <td>3</td>\n",
       "      <td>5.000000</td>\n",
       "      <td>4.661072</td>\n",
       "    </tr>\n",
       "    <tr>\n",
       "      <th>1116</th>\n",
       "      <td>540513</td>\n",
       "      <td>2</td>\n",
       "      <td>5.000000</td>\n",
       "      <td>4.548095</td>\n",
       "    </tr>\n",
       "    <tr>\n",
       "      <th>751</th>\n",
       "      <td>483997</td>\n",
       "      <td>2</td>\n",
       "      <td>5.000000</td>\n",
       "      <td>4.548095</td>\n",
       "    </tr>\n",
       "    <tr>\n",
       "      <th>3572</th>\n",
       "      <td>2635505</td>\n",
       "      <td>2</td>\n",
       "      <td>5.000000</td>\n",
       "      <td>4.548095</td>\n",
       "    </tr>\n",
       "    <tr>\n",
       "      <th>76</th>\n",
       "      <td>117544</td>\n",
       "      <td>2</td>\n",
       "      <td>5.000000</td>\n",
       "      <td>4.548095</td>\n",
       "    </tr>\n",
       "    <tr>\n",
       "      <th>3596</th>\n",
       "      <td>2684107</td>\n",
       "      <td>2</td>\n",
       "      <td>5.000000</td>\n",
       "      <td>4.548095</td>\n",
       "    </tr>\n",
       "    <tr>\n",
       "      <th>812</th>\n",
       "      <td>493879</td>\n",
       "      <td>2</td>\n",
       "      <td>5.000000</td>\n",
       "      <td>4.548095</td>\n",
       "    </tr>\n",
       "    <tr>\n",
       "      <th>2687</th>\n",
       "      <td>646539</td>\n",
       "      <td>2</td>\n",
       "      <td>5.000000</td>\n",
       "      <td>4.548095</td>\n",
       "    </tr>\n",
       "    <tr>\n",
       "      <th>394</th>\n",
       "      <td>349359</td>\n",
       "      <td>2</td>\n",
       "      <td>5.000000</td>\n",
       "      <td>4.548095</td>\n",
       "    </tr>\n",
       "    <tr>\n",
       "      <th>2021</th>\n",
       "      <td>603791</td>\n",
       "      <td>4</td>\n",
       "      <td>4.625000</td>\n",
       "      <td>4.428857</td>\n",
       "    </tr>\n",
       "    <tr>\n",
       "      <th>3519</th>\n",
       "      <td>2554973</td>\n",
       "      <td>3</td>\n",
       "      <td>4.666667</td>\n",
       "      <td>4.411072</td>\n",
       "    </tr>\n",
       "    <tr>\n",
       "      <th>956</th>\n",
       "      <td>517416</td>\n",
       "      <td>2</td>\n",
       "      <td>4.750000</td>\n",
       "      <td>4.381429</td>\n",
       "    </tr>\n",
       "    <tr>\n",
       "      <th>2839</th>\n",
       "      <td>656009</td>\n",
       "      <td>2</td>\n",
       "      <td>4.750000</td>\n",
       "      <td>4.381429</td>\n",
       "    </tr>\n",
       "    <tr>\n",
       "      <th>3190</th>\n",
       "      <td>698205</td>\n",
       "      <td>2</td>\n",
       "      <td>4.750000</td>\n",
       "      <td>4.381429</td>\n",
       "    </tr>\n",
       "    <tr>\n",
       "      <th>3119</th>\n",
       "      <td>693111</td>\n",
       "      <td>2</td>\n",
       "      <td>4.750000</td>\n",
       "      <td>4.381429</td>\n",
       "    </tr>\n",
       "    <tr>\n",
       "      <th>2726</th>\n",
       "      <td>648966</td>\n",
       "      <td>2</td>\n",
       "      <td>4.750000</td>\n",
       "      <td>4.381429</td>\n",
       "    </tr>\n",
       "    <tr>\n",
       "      <th>3234</th>\n",
       "      <td>1532840</td>\n",
       "      <td>2</td>\n",
       "      <td>4.750000</td>\n",
       "      <td>4.381429</td>\n",
       "    </tr>\n",
       "    <tr>\n",
       "      <th>2556</th>\n",
       "      <td>634193</td>\n",
       "      <td>2</td>\n",
       "      <td>4.750000</td>\n",
       "      <td>4.381429</td>\n",
       "    </tr>\n",
       "    <tr>\n",
       "      <th>1923</th>\n",
       "      <td>598235</td>\n",
       "      <td>2</td>\n",
       "      <td>4.750000</td>\n",
       "      <td>4.381429</td>\n",
       "    </tr>\n",
       "    <tr>\n",
       "      <th>2058</th>\n",
       "      <td>605905</td>\n",
       "      <td>2</td>\n",
       "      <td>4.750000</td>\n",
       "      <td>4.381429</td>\n",
       "    </tr>\n",
       "  </tbody>\n",
       "</table>\n",
       "</div>"
      ],
      "text/plain": [
       "       Mentor  count      mean     score\n",
       "2891   675728      3  5.000000  4.661072\n",
       "1116   540513      2  5.000000  4.548095\n",
       "751    483997      2  5.000000  4.548095\n",
       "3572  2635505      2  5.000000  4.548095\n",
       "76     117544      2  5.000000  4.548095\n",
       "3596  2684107      2  5.000000  4.548095\n",
       "812    493879      2  5.000000  4.548095\n",
       "2687   646539      2  5.000000  4.548095\n",
       "394    349359      2  5.000000  4.548095\n",
       "2021   603791      4  4.625000  4.428857\n",
       "3519  2554973      3  4.666667  4.411072\n",
       "956    517416      2  4.750000  4.381429\n",
       "2839   656009      2  4.750000  4.381429\n",
       "3190   698205      2  4.750000  4.381429\n",
       "3119   693111      2  4.750000  4.381429\n",
       "2726   648966      2  4.750000  4.381429\n",
       "3234  1532840      2  4.750000  4.381429\n",
       "2556   634193      2  4.750000  4.381429\n",
       "1923   598235      2  4.750000  4.381429\n",
       "2058   605905      2  4.750000  4.381429"
      ]
     },
     "execution_count": 41,
     "metadata": {},
     "output_type": "execute_result"
    }
   ],
   "source": [
    "rating_agg[['Mentor', 'count', 'mean', 'score']].head(20)"
   ]
  },
  {
   "cell_type": "code",
   "execution_count": null,
   "metadata": {},
   "outputs": [],
   "source": []
  }
 ],
 "metadata": {
  "kernelspec": {
   "display_name": "Python 3",
   "language": "python",
   "name": "python3"
  },
  "language_info": {
   "codemirror_mode": {
    "name": "ipython",
    "version": 3
   },
   "file_extension": ".py",
   "mimetype": "text/x-python",
   "name": "python",
   "nbconvert_exporter": "python",
   "pygments_lexer": "ipython3",
   "version": "3.8.5"
  }
 },
 "nbformat": 4,
 "nbformat_minor": 4
}
